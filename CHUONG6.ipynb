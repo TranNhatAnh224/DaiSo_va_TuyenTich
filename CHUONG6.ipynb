{
 "cells": [
  {
   "cell_type": "code",
   "execution_count": 33,
   "id": "f9950d7d",
   "metadata": {},
   "outputs": [
    {
     "name": "stdout",
     "output_type": "stream",
     "text": [
      "32\n"
     ]
    }
   ],
   "source": [
    "import numpy as np\n",
    "a = np.array([1,2,3])\n",
    "b = np.array([4,5,6])\n",
    "tich = np.inner(a,b) # tích vô hướng\n",
    "print (tich)"
   ]
  },
  {
   "cell_type": "code",
   "execution_count": 34,
   "id": "b65080eb",
   "metadata": {},
   "outputs": [
    {
     "name": "stdout",
     "output_type": "stream",
     "text": [
      "32\n"
     ]
    }
   ],
   "source": [
    "tich1 = np.dot(a,b) \n",
    "print(tich1)"
   ]
  },
  {
   "cell_type": "code",
   "execution_count": 35,
   "id": "1221eeed",
   "metadata": {},
   "outputs": [
    {
     "name": "stdout",
     "output_type": "stream",
     "text": [
      "3.7416573867739413\n"
     ]
    }
   ],
   "source": [
    "import numpy as np\n",
    "a = np.array([1,2,-3])\n",
    "print(np.linalg.norm(a))"
   ]
  },
  {
   "cell_type": "code",
   "execution_count": 36,
   "id": "87ff8732",
   "metadata": {},
   "outputs": [
    {
     "name": "stdout",
     "output_type": "stream",
     "text": [
      "6.0\n"
     ]
    }
   ],
   "source": [
    "a = np.array([1,2,-3])\n",
    "print(np.linalg.norm(a,1))"
   ]
  },
  {
   "cell_type": "code",
   "execution_count": 37,
   "id": "e6cc0a01",
   "metadata": {},
   "outputs": [
    {
     "data": {
      "text/plain": [
       "6.0"
      ]
     },
     "execution_count": 37,
     "metadata": {},
     "output_type": "execute_result"
    }
   ],
   "source": [
    "def chuan(v,k):\n",
    "    tong = 0 \n",
    "    for i in range(len(v)):\n",
    "        tong = tong + abs(v[i]**k)\n",
    "    ketqua = math.pow(tong, 1.0/k)\n",
    "    return ketqua\n",
    "import math\n",
    "import numpy as np\n",
    "a = np.array([1,2,-3])\n",
    "chuan(a, 1)"
   ]
  },
  {
   "cell_type": "code",
   "execution_count": 38,
   "id": "10e8677f",
   "metadata": {},
   "outputs": [
    {
     "name": "stdout",
     "output_type": "stream",
     "text": [
      "6.0\n"
     ]
    }
   ],
   "source": [
    "print(np.linalg.norm(a,1))"
   ]
  },
  {
   "cell_type": "code",
   "execution_count": 39,
   "id": "ae1bf2de",
   "metadata": {},
   "outputs": [
    {
     "name": "stdout",
     "output_type": "stream",
     "text": [
      "3.7416573867739413\n"
     ]
    }
   ],
   "source": [
    "print(chuan(a, 2))"
   ]
  },
  {
   "cell_type": "code",
   "execution_count": 40,
   "id": "924d9aae",
   "metadata": {},
   "outputs": [
    {
     "name": "stdout",
     "output_type": "stream",
     "text": [
      "3.7416573867739413\n"
     ]
    }
   ],
   "source": [
    "print(np.linalg.norm(a,2))"
   ]
  },
  {
   "cell_type": "code",
   "execution_count": 41,
   "id": "37a97e58",
   "metadata": {},
   "outputs": [
    {
     "name": "stdout",
     "output_type": "stream",
     "text": [
      "3.3019272488946263\n"
     ]
    }
   ],
   "source": [
    "print(chuan(a, 3))"
   ]
  },
  {
   "cell_type": "code",
   "execution_count": 42,
   "id": "656507bd",
   "metadata": {},
   "outputs": [
    {
     "name": "stdout",
     "output_type": "stream",
     "text": [
      "3.3019272488946263\n"
     ]
    }
   ],
   "source": [
    "print(np.linalg.norm(a,3))"
   ]
  },
  {
   "cell_type": "code",
   "execution_count": 43,
   "id": "11566b4b",
   "metadata": {},
   "outputs": [
    {
     "name": "stdout",
     "output_type": "stream",
     "text": [
      "1.0442214818467515\n"
     ]
    }
   ],
   "source": [
    "print(chuan(a, 1000))"
   ]
  },
  {
   "cell_type": "code",
   "execution_count": 44,
   "id": "b6b6d899",
   "metadata": {},
   "outputs": [
    {
     "name": "stdout",
     "output_type": "stream",
     "text": [
      "inf\n"
     ]
    }
   ],
   "source": [
    "print(np.linalg.norm(a,1000))"
   ]
  },
  {
   "cell_type": "code",
   "execution_count": 45,
   "id": "eae1c8ac",
   "metadata": {},
   "outputs": [
    {
     "name": "stdout",
     "output_type": "stream",
     "text": [
      "3.7416573867739413\n"
     ]
    }
   ],
   "source": [
    "from scipy import linalg\n",
    "print(linalg.norm(a))"
   ]
  },
  {
   "cell_type": "code",
   "execution_count": 46,
   "id": "ad356f30",
   "metadata": {},
   "outputs": [
    {
     "name": "stdout",
     "output_type": "stream",
     "text": [
      "3.0\n"
     ]
    }
   ],
   "source": [
    "print(linalg.norm(a, 100))"
   ]
  },
  {
   "cell_type": "code",
   "execution_count": 47,
   "id": "30f28c39",
   "metadata": {},
   "outputs": [
    {
     "name": "stdout",
     "output_type": "stream",
     "text": [
      "inf\n"
     ]
    }
   ],
   "source": [
    "print(linalg.norm(a, 1000))"
   ]
  },
  {
   "cell_type": "code",
   "execution_count": 48,
   "id": "c85112f2",
   "metadata": {},
   "outputs": [
    {
     "name": "stdout",
     "output_type": "stream",
     "text": [
      "[[ 5  4 -4 -9]\n",
      " [-4  3 -3  8]\n",
      " [ 3 -2 -1  6]]\n"
     ]
    }
   ],
   "source": [
    "import numpy as np\n",
    "m = 10\n",
    "v1 = np.array([5,-4,3])\n",
    "v2 = np.array([4,3,-2])\n",
    "v3 = np.array([-4,-3,-1])\n",
    "v4 = np.array([-9,8,6])\n",
    "mi = np.array([2,5,2,1])\n",
    "M = np.array([v1,v2,v3,v4])\n",
    "MT = M.transpose()\n",
    "print(MT)"
   ]
  },
  {
   "cell_type": "code",
   "execution_count": 49,
   "id": "6e75cae7",
   "metadata": {},
   "outputs": [
    {
     "name": "stdout",
     "output_type": "stream",
     "text": [
      "[1.3 0.9 0. ]\n"
     ]
    }
   ],
   "source": [
    "v = (1.0/m)*MT.dot(mi)\n",
    "print(v)"
   ]
  },
  {
   "cell_type": "code",
   "execution_count": 50,
   "id": "530fd624",
   "metadata": {},
   "outputs": [
    {
     "name": "stdout",
     "output_type": "stream",
     "text": [
      "0.9855\n",
      "0.0145\n"
     ]
    }
   ],
   "source": [
    "import numpy as np\n",
    "F = 0.136\n",
    "J = 0.998\n",
    "A = np.array([[J, F], [1 - J, 1 - F]])\n",
    "v0 = np.array([0.95, 0.05])\n",
    "A_power_100 = np.linalg.matrix_power(A, 100)\n",
    "v_100 = A_power_100 @ v0\n",
    "print(round(v_100[0], 4))\n",
    "print(round(v_100[1], 4))\n"
   ]
  },
  {
   "cell_type": "code",
   "execution_count": 51,
   "id": "702d2094",
   "metadata": {},
   "outputs": [
    {
     "name": "stdout",
     "output_type": "stream",
     "text": [
      "⎧   68         ⎫\n",
      "⎨x: ──, y: 1/69⎬\n",
      "⎩   69         ⎭\n"
     ]
    }
   ],
   "source": [
    "import sympy as sym\n",
    "x, y = sym.symbols('x y')\n",
    "xy = sym.Matrix([x,y])\n",
    "A = sym.Matrix([[1, -68],[1,1]])\n",
    "v = sym.Matrix([0, 1])\n",
    "nghiem = sym.solve([A*xy-v])\n",
    "print(sym.pretty(nghiem))"
   ]
  },
  {
   "cell_type": "code",
   "execution_count": 53,
   "id": "da49baec",
   "metadata": {},
   "outputs": [
    {
     "name": "stdout",
     "output_type": "stream",
     "text": [
      "A @ u      = [-24  20]\n",
      "-4 * u     = [-24  20]\n"
     ]
    }
   ],
   "source": [
    "import numpy as np\n",
    "\n",
    "A = np.array([[1, 6],\n",
    "              [5, 2]])\n",
    "u = np.array([6, -5])\n",
    "Au = A @ u\n",
    "minus4u = -4 * u\n",
    "print(\"A @ u      =\", Au)\n",
    "print(\"-4 * u     =\", minus4u)"
   ]
  },
  {
   "cell_type": "code",
   "execution_count": 54,
   "id": "0518e43f",
   "metadata": {},
   "outputs": [
    {
     "name": "stdout",
     "output_type": "stream",
     "text": [
      "[-7.000, 3.000]\n"
     ]
    }
   ],
   "source": [
    "import sympy\n",
    "x, y, Lambda = sympy.symbols('x y Lambda')\n",
    "I = sympy.eye(2)\n",
    "A = sympy.Matrix([[2,3],[3,-6]])\n",
    "phuongtrinh = sympy.Eq(sympy.det(Lambda*I-A), 0)\n",
    "nghiem = sympy.solve(phuongtrinh)\n",
    "print([sympy.N(phantu,4) for phantu in nghiem])"
   ]
  },
  {
   "cell_type": "code",
   "execution_count": 55,
   "id": "4be8665a",
   "metadata": {},
   "outputs": [
    {
     "name": "stdout",
     "output_type": "stream",
     "text": [
      "[-7, 3]\n"
     ]
    }
   ],
   "source": [
    "print (sympy.pretty(nghiem))"
   ]
  },
  {
   "cell_type": "code",
   "execution_count": 56,
   "id": "2408d2a8",
   "metadata": {},
   "outputs": [
    {
     "name": "stdout",
     "output_type": "stream",
     "text": [
      "[[-0.3  0.9]\n",
      " [ 0.3  0.1]]\n"
     ]
    }
   ],
   "source": [
    "import numpy as np\n",
    "A = np.array([[2,3],[3,-6]])\n",
    "D = np.array([[-7,0],[0,3]])\n",
    "P = np.array([[-1.0/3, 3],[1,1]])\n",
    "from numpy import linalg as LA\n",
    "P1 = LA.inv(P) # tính giá trị nghịch đảo của P\n",
    "print (P1)"
   ]
  },
  {
   "cell_type": "code",
   "execution_count": 57,
   "id": "306171ce",
   "metadata": {},
   "outputs": [
    {
     "name": "stdout",
     "output_type": "stream",
     "text": [
      "[[ 2.33333333  9.        ]\n",
      " [-7.          3.        ]]\n"
     ]
    }
   ],
   "source": [
    "print(A.dot(P))"
   ]
  },
  {
   "cell_type": "code",
   "execution_count": 58,
   "id": "7ed01384",
   "metadata": {},
   "outputs": [
    {
     "name": "stdout",
     "output_type": "stream",
     "text": [
      "[[ 2.33333333  9.        ]\n",
      " [-7.          3.        ]]\n"
     ]
    }
   ],
   "source": [
    "print(P.dot(D))"
   ]
  },
  {
   "cell_type": "code",
   "execution_count": 59,
   "id": "55d905b1",
   "metadata": {},
   "outputs": [
    {
     "name": "stdout",
     "output_type": "stream",
     "text": [
      "[[ 5.03503397e+18  3.50482117e+18]\n",
      " [ 3.50482117e+18 -4.31115581e+18]]\n"
     ]
    }
   ],
   "source": [
    "kq =P @ (D ** 1000) @ P1\n",
    "print(kq)"
   ]
  },
  {
   "cell_type": "code",
   "execution_count": 61,
   "id": "abe52b41",
   "metadata": {},
   "outputs": [
    {
     "name": "stdout",
     "output_type": "stream",
     "text": [
      "[[49  0]\n",
      " [ 0  9]]\n",
      "None\n"
     ]
    }
   ],
   "source": [
    "print(print (D **2))"
   ]
  },
  {
   "cell_type": "code",
   "execution_count": 69,
   "id": "b3a6a172",
   "metadata": {},
   "outputs": [
    {
     "name": "stdout",
     "output_type": "stream",
     "text": [
      "3.7416573867739413\n"
     ]
    }
   ],
   "source": [
    "#cau1\n",
    "import numpy as np\n",
    "a = np.array([1,2,3])\n",
    "mag = np.sqrt(a @ a )\n",
    "print(mag)"
   ]
  }
 ],
 "metadata": {
  "kernelspec": {
   "display_name": "env",
   "language": "python",
   "name": "python3"
  },
  "language_info": {
   "codemirror_mode": {
    "name": "ipython",
    "version": 3
   },
   "file_extension": ".py",
   "mimetype": "text/x-python",
   "name": "python",
   "nbconvert_exporter": "python",
   "pygments_lexer": "ipython3",
   "version": "3.13.1"
  }
 },
 "nbformat": 4,
 "nbformat_minor": 5
}
