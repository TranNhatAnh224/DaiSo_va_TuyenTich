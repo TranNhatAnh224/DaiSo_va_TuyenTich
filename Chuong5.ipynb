{
 "cells": [
  {
   "cell_type": "code",
   "execution_count": 1,
   "id": "2edd1da3",
   "metadata": {},
   "outputs": [
    {
     "ename": "NameError",
     "evalue": "name 'E' is not defined",
     "output_type": "error",
     "traceback": [
      "\u001b[31m---------------------------------------------------------------------------\u001b[39m",
      "\u001b[31mNameError\u001b[39m                                 Traceback (most recent call last)",
      "\u001b[36mCell\u001b[39m\u001b[36m \u001b[39m\u001b[32mIn[1]\u001b[39m\u001b[32m, line 3\u001b[39m\n\u001b[32m      1\u001b[39m \u001b[38;5;28;01mimport\u001b[39;00m\u001b[38;5;250m \u001b[39m\u001b[34;01mnumpy\u001b[39;00m\u001b[38;5;250m \u001b[39m\u001b[38;5;28;01mas\u001b[39;00m\u001b[38;5;250m \u001b[39m\u001b[34;01mnp\u001b[39;00m\n\u001b[32m      2\u001b[39m D = np.array([[\u001b[32m1\u001b[39m,\u001b[32m2\u001b[39m],[\u001b[32m3\u001b[39m,\u001b[32m4\u001b[39m]])\n\u001b[32m----> \u001b[39m\u001b[32m3\u001b[39m \u001b[38;5;28mprint\u001b[39m(np.copyto(\u001b[43mE\u001b[49m, D))\n",
      "\u001b[31mNameError\u001b[39m: name 'E' is not defined"
     ]
    }
   ],
   "source": [
    "import numpy as np\n",
    "D = np.array([[1,2],[3,4]])\n",
    "print(np.copyto(E, D))"
   ]
  },
  {
   "cell_type": "code",
   "execution_count": 2,
   "id": "1590014f",
   "metadata": {},
   "outputs": [
    {
     "name": "stdout",
     "output_type": "stream",
     "text": [
      "None\n"
     ]
    }
   ],
   "source": [
    "E = np.array([[1,2],[3,5]])\n",
    "print(np.copyto(E, D))"
   ]
  },
  {
   "cell_type": "code",
   "execution_count": 3,
   "id": "e59c54a7",
   "metadata": {},
   "outputs": [
    {
     "name": "stdout",
     "output_type": "stream",
     "text": [
      "[[1 2]\n",
      " [3 4]]\n"
     ]
    }
   ],
   "source": [
    "print(E)"
   ]
  },
  {
   "cell_type": "code",
   "execution_count": 45,
   "id": "29fdb8dc",
   "metadata": {},
   "outputs": [
    {
     "name": "stdout",
     "output_type": "stream",
     "text": [
      "[[array([['a', 'b'],\n",
      "         ['c', 'd']], dtype='<U1') 'x']\n",
      " [1 2]]\n"
     ]
    }
   ],
   "source": [
    "x = np.array([['a','b'],['c','d']])\n",
    "y = 'x'\n",
    "C = np.array([[x, y], [1, 2]], dtype=object)\n",
    "print(C)"
   ]
  },
  {
   "cell_type": "code",
   "execution_count": 15,
   "id": "40ed40ec",
   "metadata": {},
   "outputs": [
    {
     "ename": "ValueError",
     "evalue": "matrix must be 2-dimensional",
     "output_type": "error",
     "traceback": [
      "\u001b[31m---------------------------------------------------------------------------\u001b[39m",
      "\u001b[31mValueError\u001b[39m                                Traceback (most recent call last)",
      "\u001b[36mCell\u001b[39m\u001b[36m \u001b[39m\u001b[32mIn[15]\u001b[39m\u001b[32m, line 1\u001b[39m\n\u001b[32m----> \u001b[39m\u001b[32m1\u001b[39m A = \u001b[43mnp\u001b[49m\u001b[43m.\u001b[49m\u001b[43mmatrix\u001b[49m\u001b[43m(\u001b[49m\u001b[43m[\u001b[49m\u001b[43m[\u001b[49m\u001b[43m[\u001b[49m\u001b[32;43m1\u001b[39;49m\u001b[43m,\u001b[49m\u001b[32;43m2\u001b[39;49m\u001b[43m]\u001b[49m\u001b[43m,\u001b[49m\u001b[43m[\u001b[49m\u001b[32;43m3\u001b[39;49m\u001b[43m,\u001b[49m\u001b[32;43m4\u001b[39;49m\u001b[43m]\u001b[49m\u001b[43m]\u001b[49m\u001b[43m,\u001b[49m\u001b[43m[\u001b[49m\u001b[43m[\u001b[49m\u001b[32;43m5\u001b[39;49m\u001b[43m,\u001b[49m\u001b[32;43m6\u001b[39;49m\u001b[43m]\u001b[49m\u001b[43m,\u001b[49m\u001b[43m[\u001b[49m\u001b[32;43m7\u001b[39;49m\u001b[43m,\u001b[49m\u001b[32;43m8\u001b[39;49m\u001b[43m]\u001b[49m\u001b[43m]\u001b[49m\u001b[43m]\u001b[49m\u001b[43m)\u001b[49m\n\u001b[32m      2\u001b[39m \u001b[38;5;28mprint\u001b[39m(A)\n",
      "\u001b[36mFile \u001b[39m\u001b[32m~/Documents/CTDL/.venv/lib/python3.13/site-packages/numpy/matrixlib/defmatrix.py:156\u001b[39m, in \u001b[36mmatrix.__new__\u001b[39m\u001b[34m(subtype, data, dtype, copy)\u001b[39m\n\u001b[32m    154\u001b[39m shape = arr.shape\n\u001b[32m    155\u001b[39m \u001b[38;5;28;01mif\u001b[39;00m (ndim > \u001b[32m2\u001b[39m):\n\u001b[32m--> \u001b[39m\u001b[32m156\u001b[39m     \u001b[38;5;28;01mraise\u001b[39;00m \u001b[38;5;167;01mValueError\u001b[39;00m(\u001b[33m\"\u001b[39m\u001b[33mmatrix must be 2-dimensional\u001b[39m\u001b[33m\"\u001b[39m)\n\u001b[32m    157\u001b[39m \u001b[38;5;28;01melif\u001b[39;00m ndim == \u001b[32m0\u001b[39m:\n\u001b[32m    158\u001b[39m     shape = (\u001b[32m1\u001b[39m, \u001b[32m1\u001b[39m)\n",
      "\u001b[31mValueError\u001b[39m: matrix must be 2-dimensional"
     ]
    }
   ],
   "source": [
    "A = np.matrix([[[1,2],[3,4]],[[5,6],[7,8]]])\n",
    "print(A)"
   ]
  },
  {
   "cell_type": "code",
   "execution_count": 20,
   "id": "09059417",
   "metadata": {},
   "outputs": [
    {
     "name": "stdout",
     "output_type": "stream",
     "text": [
      "[[[1 2]\n",
      "  [3 4]]\n",
      "\n",
      " [[5 6]\n",
      "  [7 8]]]\n"
     ]
    }
   ],
   "source": [
    "A = np.array([[[1,2],[3,4]],[[5,6],[7,8]]])\n",
    "print(A)"
   ]
  },
  {
   "cell_type": "code",
   "execution_count": 21,
   "id": "d416841e",
   "metadata": {},
   "outputs": [
    {
     "name": "stdout",
     "output_type": "stream",
     "text": [
      "[[1. 0. 0. 0. 0.]\n",
      " [0. 1. 0. 0. 0.]\n",
      " [0. 0. 1. 0. 0.]\n",
      " [0. 0. 0. 1. 0.]\n",
      " [0. 0. 0. 0. 1.]]\n"
     ]
    }
   ],
   "source": [
    "from numpy import matlib\n",
    "G = matlib.identity(5)\n",
    "print(G)"
   ]
  },
  {
   "cell_type": "code",
   "execution_count": 22,
   "id": "6556a70a",
   "metadata": {},
   "outputs": [
    {
     "name": "stdout",
     "output_type": "stream",
     "text": [
      "[[ 0.45635147  0.51950855]\n",
      " [ 0.23055703  1.02501189]\n",
      " [ 0.27550144 -0.8053953 ]]\n"
     ]
    }
   ],
   "source": [
    "H = matlib.randn(3,2)\n",
    "print(H)"
   ]
  },
  {
   "cell_type": "code",
   "execution_count": 23,
   "id": "b372c385",
   "metadata": {},
   "outputs": [
    {
     "name": "stdout",
     "output_type": "stream",
     "text": [
      "[[0. 0. 0. 0.]\n",
      " [0. 0. 0. 0.]\n",
      " [0. 0. 0. 0.]\n",
      " [0. 0. 0. 0.]]\n"
     ]
    }
   ],
   "source": [
    "K = matlib.zeros([4,4])\n",
    "print(K)"
   ]
  },
  {
   "cell_type": "code",
   "execution_count": 32,
   "id": "c380c158",
   "metadata": {},
   "outputs": [
    {
     "name": "stdout",
     "output_type": "stream",
     "text": [
      "[[165707065  80143857]\n",
      " [ 52746197  25510582]]\n",
      "3.1415926535897936\n"
     ]
    }
   ],
   "source": [
    "import numpy as np\n",
    "c = [3, 7, 15, 1, 292, 1, 1, 1, 2, 1, 3, 1, 14, 2] \n",
    "M = np.matrix([[1,2],[3,4]])\n",
    "for i in range(len(c)):\n",
    "    ci = np.matrix([[1,1],[1,0]])\n",
    "    ci[0, 0] = c[i]\n",
    "    if (i==0):\n",
    "        M = ci\n",
    "    else:\n",
    "        M = M.dot(ci)\n",
    "print(M)\n",
    "print (M[0,0]/M[1,0])"
   ]
  },
  {
   "cell_type": "code",
   "execution_count": 43,
   "id": "51bf5729",
   "metadata": {},
   "outputs": [
    {
     "name": "stdout",
     "output_type": "stream",
     "text": [
      "[[-0.2]\n",
      " [ 1.2]]\n"
     ]
    }
   ],
   "source": [
    "X = np.array([[1,1],[1,2],[1,3],[1,4],[1,5]])\n",
    "Y= np.array([[1],[2],[4],[4],[6]])\n",
    "XT = X.T\n",
    "A1 = np.linalg.inv(XT.dot(X))\n",
    "A2 = XT.dot(Y)\n",
    "A = A1.dot(A2)\n",
    "print(A)"
   ]
  },
  {
   "cell_type": "code",
   "execution_count": null,
   "id": "1aeb2c1d",
   "metadata": {},
   "outputs": [],
   "source": []
  }
 ],
 "metadata": {
  "kernelspec": {
   "display_name": ".venv",
   "language": "python",
   "name": "python3"
  },
  "language_info": {
   "codemirror_mode": {
    "name": "ipython",
    "version": 3
   },
   "file_extension": ".py",
   "mimetype": "text/x-python",
   "name": "python",
   "nbconvert_exporter": "python",
   "pygments_lexer": "ipython3",
   "version": "3.13.1"
  }
 },
 "nbformat": 4,
 "nbformat_minor": 5
}
