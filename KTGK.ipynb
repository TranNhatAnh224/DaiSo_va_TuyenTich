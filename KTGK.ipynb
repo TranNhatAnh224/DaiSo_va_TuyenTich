{
 "cells": [
  {
   "cell_type": "markdown",
   "id": "ac4bc873",
   "metadata": {},
   "source": [
    "Câu 1:"
   ]
  },
  {
   "cell_type": "code",
   "execution_count": 1,
   "id": "fc2c347e",
   "metadata": {},
   "outputs": [
    {
     "data": {
      "text/plain": [
       "(array([3, 3, 1, 5]),\n",
       " array([  4, -11,  13, -10]),\n",
       " np.int64(-8),\n",
       " np.float64(108.3755542856849),\n",
       " array([[ 5,  0, -1],\n",
       "        [ 0, 14, 10],\n",
       "        [-1, 10, 17]]))"
      ]
     },
     "execution_count": 1,
     "metadata": {},
     "output_type": "execute_result"
    }
   ],
   "source": [
    "import numpy as np\n",
    "A = np.array([2,-1,3,0])\n",
    "B = np.array([1,4,-2,5])\n",
    "C = np.array([[1,2,-1],[0,3,4],[2,-1,0]])\n",
    "\n",
    "# a) A+B and 3A-2B\n",
    "sum_AB = A + B\n",
    "diff_combo = 3*A - 2*B\n",
    "\n",
    "# b) dot product and angle\n",
    "dot_AB = np.dot(A,B)\n",
    "norm_A = np.linalg.norm(A)\n",
    "norm_B = np.linalg.norm(B)\n",
    "cos_theta = dot_AB / (norm_A * norm_B)\n",
    "angle_deg = np.degrees(np.arccos(cos_theta))\n",
    "\n",
    "# c) C^T C\n",
    "CtC = C.T @ C\n",
    "\n",
    "(sum_AB, diff_combo, dot_AB, angle_deg, CtC)"
   ]
  },
  {
   "cell_type": "markdown",
   "id": "518b9da3",
   "metadata": {},
   "source": [
    "câu 2"
   ]
  },
  {
   "cell_type": "code",
   "execution_count": 2,
   "id": "5bd6e9cf",
   "metadata": {},
   "outputs": [
    {
     "data": {
      "text/plain": [
       "(array([[ 32,  38,  44,  50],\n",
       "        [ 80,  96, 112, 128],\n",
       "        [128, 154, 180, 206],\n",
       "        [ 12,  14,  16,  18]]),\n",
       " np.float64(3.330669073875464e-16),\n",
       " np.int64(2))"
      ]
     },
     "execution_count": 2,
     "metadata": {},
     "output_type": "execute_result"
    }
   ],
   "source": [
    "M = np.array([[1,2,3,0],\n",
    "              [4,5,6,1],\n",
    "              [7,8,9,2],\n",
    "              [0,1,1,0]])\n",
    "\n",
    "N = np.array([[0,1,2,3],\n",
    "              [4,5,6,7],\n",
    "              [8,9,10,11],\n",
    "              [12,13,14,15]])\n",
    "\n",
    "# a) MxN\n",
    "product = M @ N\n",
    "\n",
    "# b) det(M)\n",
    "det_M = np.linalg.det(M)\n",
    "\n",
    "# c) rank(N)\n",
    "rank_N = np.linalg.matrix_rank(N)\n",
    "\n",
    "(product, det_M, rank_N)"
   ]
  },
  {
   "cell_type": "code",
   "execution_count": 3,
   "id": "32632718",
   "metadata": {},
   "outputs": [
    {
     "data": {
      "text/plain": [
       "(np.float64(86.00000000000004),\n",
       " np.True_,\n",
       " array([[ 0.48837209, -0.09302326,  0.02325581, -0.20930233],\n",
       "        [ 0.03488372,  0.27906977, -0.06976744,  0.12790698],\n",
       "        [-0.11627907,  0.06976744,  0.23255814, -0.09302326],\n",
       "        [-0.01162791, -0.09302326,  0.02325581,  0.29069767]]),\n",
       " array([0.46511628, 2.10465116, 1.65116279, 0.96511628]),\n",
       " array([4., 7., 9., 5.]))"
      ]
     },
     "execution_count": 3,
     "metadata": {},
     "output_type": "execute_result"
    }
   ],
   "source": [
    "P = np.array([[2,1,0,1],\n",
    "              [0,3,1,-1],\n",
    "              [1,0,4,2],\n",
    "              [0,1,0,3]])\n",
    "\n",
    "b = np.array([4,7,9,5])\n",
    "\n",
    "# a) Check inverse\n",
    "det_P = np.linalg.det(P)\n",
    "is_invertible = det_P != 0\n",
    "\n",
    "if is_invertible:\n",
    "    P_inv = np.linalg.inv(P)\n",
    "else:\n",
    "    P_inv = None\n",
    "\n",
    "# b) Solve system using inverse\n",
    "solution = None\n",
    "if P_inv is not None:\n",
    "    solution = P_inv @ b\n",
    "\n",
    "# c) Check\n",
    "check = None\n",
    "if solution is not None:\n",
    "    check = P @ solution\n",
    "\n",
    "(det_P, is_invertible, P_inv, solution, check)"
   ]
  },
  {
   "cell_type": "markdown",
   "id": "88b21e3e",
   "metadata": {},
   "source": [
    "câu 3:"
   ]
  },
  {
   "cell_type": "code",
   "execution_count": 4,
   "id": "cc8dbe81",
   "metadata": {},
   "outputs": [
    {
     "data": {
      "text/plain": [
       "(array([3.45339765+0.j        , 2.77330117+1.46771151j,\n",
       "        2.77330117-1.46771151j]),\n",
       " array([[0.83327121+0.j        , 0.26206044+0.31354813j,\n",
       "         0.26206044-0.31354813j],\n",
       "        [0.455468  +0.j        , 0.78166743+0.j        ,\n",
       "         0.78166743-0.j        ],\n",
       "        [0.31338154+0.j        , 0.21963176-0.41685708j,\n",
       "         0.21963176+0.41685708j]]),\n",
       " array([[0.83327121+0.j        , 0.26206044+0.31354813j,\n",
       "         0.26206044-0.31354813j],\n",
       "        [0.455468  +0.j        , 0.78166743+0.j        ,\n",
       "         0.78166743-0.j        ],\n",
       "        [0.31338154+0.j        , 0.21963176-0.41685708j,\n",
       "         0.21963176+0.41685708j]]))"
      ]
     },
     "execution_count": 4,
     "metadata": {},
     "output_type": "execute_result"
    }
   ],
   "source": [
    "Q = np.array([[4,-1,0],\n",
    "              [1,3,-2],\n",
    "              [0,1,2]])\n",
    "\n",
    "# a) eigenvalues, eigenvectors\n",
    "eigvals, eigvecs = np.linalg.eig(Q)\n",
    "\n",
    "# normalize eigenvectors\n",
    "normed_vecs = eigvecs / np.linalg.norm(eigvecs, axis=0)\n",
    "\n",
    "(eigvals, eigvecs, normed_vecs)"
   ]
  },
  {
   "cell_type": "markdown",
   "id": "d10a6cf3",
   "metadata": {},
   "source": [
    "câu 4:"
   ]
  },
  {
   "cell_type": "code",
   "execution_count": 5,
   "id": "6f4d5816",
   "metadata": {},
   "outputs": [
    {
     "data": {
      "text/plain": [
       "(array([2.7826087 , 0.04347826, 2.43478261]),\n",
       " array([2.7826087 , 0.04347826, 2.43478261]),\n",
       " np.float64(23.0),\n",
       " np.float64(6.082762530298219))"
      ]
     },
     "execution_count": 5,
     "metadata": {},
     "output_type": "execute_result"
    }
   ],
   "source": [
    "R = np.array([[1,-2,3],\n",
    "              [2,0,1],\n",
    "              [-1,1,4]])\n",
    "b = np.array([10,8,7])\n",
    "\n",
    "# a) solve\n",
    "solution1 = np.linalg.solve(R,b)\n",
    "\n",
    "# b) invertibility\n",
    "det_R = np.linalg.det(R)\n",
    "is_invertible = det_R != 0\n",
    "if is_invertible:\n",
    "    R_inv = np.linalg.inv(R)\n",
    "    solution2 = R_inv @ b\n",
    "else:\n",
    "    R_inv = None\n",
    "    solution2 = None\n",
    "\n",
    "# c) Frobenius norm\n",
    "fro_norm = np.linalg.norm(R,'fro')\n",
    "\n",
    "(solution1, solution2, det_R, fro_norm)"
   ]
  }
 ],
 "metadata": {
  "kernelspec": {
   "display_name": "env",
   "language": "python",
   "name": "python3"
  },
  "language_info": {
   "codemirror_mode": {
    "name": "ipython",
    "version": 3
   },
   "file_extension": ".py",
   "mimetype": "text/x-python",
   "name": "python",
   "nbconvert_exporter": "python",
   "pygments_lexer": "ipython3",
   "version": "3.13.1"
  }
 },
 "nbformat": 4,
 "nbformat_minor": 5
}
