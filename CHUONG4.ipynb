{
 "cells": [
  {
   "cell_type": "code",
   "execution_count": 518,
   "id": "c1100cfe",
   "metadata": {},
   "outputs": [],
   "source": [
    "#Định thức và các tính chất\n",
    "import numpy as np\n",
    "n = 3\n",
    "sigma = np.array([4,3,2,1])\n",
    "X = np.array(range(1, len(sigma)+1))  # Ví dụ: với sigma có 2 phần tử → X = [1, 2]"
   ]
  },
  {
   "cell_type": "code",
   "execution_count": 519,
   "id": "0a4ed23b",
   "metadata": {},
   "outputs": [],
   "source": [
    "def sgn_by_def(sigma):\n",
    "    global X\n",
    "    ket_qua = 1.0\n",
    "    for i in range(len(X)-1):\n",
    "        for j in range(i+1, len(X)):\n",
    "            ket_qua = ket_qua * ((X[i] - X[j]) / (sigma[i] - sigma[j]))\n",
    "    return int(ket_qua)"
   ]
  },
  {
   "cell_type": "code",
   "execution_count": 520,
   "id": "75208e75",
   "metadata": {},
   "outputs": [
    {
     "data": {
      "text/plain": [
       "-1"
      ]
     },
     "execution_count": 520,
     "metadata": {},
     "output_type": "execute_result"
    }
   ],
   "source": [
    "sigma = np.array([2,1,3,4])\n",
    "sgn_by_def(sigma)"
   ]
  },
  {
   "cell_type": "code",
   "execution_count": 521,
   "id": "8274a981",
   "metadata": {},
   "outputs": [
    {
     "data": {
      "text/plain": [
       "1"
      ]
     },
     "execution_count": 521,
     "metadata": {},
     "output_type": "execute_result"
    }
   ],
   "source": [
    "sigma = np.array([1,2,3,4])\n",
    "sgn_by_def(sigma)"
   ]
  },
  {
   "cell_type": "code",
   "execution_count": 522,
   "id": "e79c95f3",
   "metadata": {},
   "outputs": [
    {
     "data": {
      "text/plain": [
       "1"
      ]
     },
     "execution_count": 522,
     "metadata": {},
     "output_type": "execute_result"
    }
   ],
   "source": [
    "sigma = np.array([4,3,2,1])\n",
    "sgn_by_def(sigma)"
   ]
  },
  {
   "cell_type": "code",
   "execution_count": 523,
   "id": "9a3841aa",
   "metadata": {},
   "outputs": [
    {
     "name": "stdout",
     "output_type": "stream",
     "text": [
      "[(1, 2, 3), (1, 3, 2), (2, 1, 3), (2, 3, 1), (3, 1, 2), (3, 2, 1)]\n"
     ]
    }
   ],
   "source": [
    "#Định thức:\n",
    "from itertools import permutations\n",
    "n = 3\n",
    "X = []\n",
    "for i in range (1, n+1):\n",
    "    X.append(i)\n",
    "Sn = list(permutations(X)) #  tạo hoán vị của tập X\n",
    "print (Sn)\n"
   ]
  },
  {
   "cell_type": "code",
   "execution_count": 524,
   "id": "51cc009d",
   "metadata": {},
   "outputs": [],
   "source": [
    "def phatsinh_dinhthuc(n):\n",
    "    global X\n",
    "    X = []\n",
    "    for i in range(1, n+1):\n",
    "        X.append(i)\n",
    "    Sn = list(permutations(X))\n",
    "    dinhthuc = \"\"\n",
    "    for sn in Sn:\n",
    "        sigma = np.array([1])\n",
    "        sigma.resize([n])\n",
    "        product = \"\"\n",
    "        for i in range(1,n+1):\n",
    "            sigma[sn.index(i)] = i\n",
    "            product = product + \"a\" + str(i) + str(sn.index(i)+1)\n",
    "        dau = sgn_by_def(sigma)\n",
    "        if (dau != 1):\n",
    "            product = \"-\" + product\n",
    "        else:\n",
    "            product = \"+\" + product\n",
    "        dinhthuc = dinhthuc + product\n",
    "    return dinhthuc"
   ]
  },
  {
   "cell_type": "code",
   "execution_count": 525,
   "id": "765dfc45",
   "metadata": {},
   "outputs": [
    {
     "name": "stdout",
     "output_type": "stream",
     "text": [
      "+a11a22-a12a21\n"
     ]
    }
   ],
   "source": [
    "ts = phatsinh_dinhthuc(2)\n",
    "print(ts)"
   ]
  },
  {
   "cell_type": "code",
   "execution_count": 526,
   "id": "da2299cf",
   "metadata": {},
   "outputs": [
    {
     "data": {
      "text/plain": [
       "'+a11a22a33-a11a23a32-a12a21a33+a13a21a32+a12a23a31-a13a22a31'"
      ]
     },
     "execution_count": 526,
     "metadata": {},
     "output_type": "execute_result"
    }
   ],
   "source": [
    "phatsinh_dinhthuc(3)"
   ]
  },
  {
   "cell_type": "code",
   "execution_count": 527,
   "id": "72afd815",
   "metadata": {},
   "outputs": [],
   "source": [
    "def tinhtoan_dinhthuc(A):\n",
    "    from itertools import permutations\n",
    "    import numpy as np\n",
    "    global X\n",
    "    n = A.shape[0]\n",
    "    X = list(range(1, n+1))  # Gán đúng `X` theo bậc của ma trận\n",
    "    Sn = list(permutations(X))\n",
    "    dinhthuc = 0\n",
    "    for sn in Sn:\n",
    "        sigma = np.array([1])\n",
    "        sigma.resize([n])\n",
    "        product = 1\n",
    "        for i in range(1, n+1):\n",
    "            sigma[sn.index(i)] = i\n",
    "            product = product * A[i-1][sn.index(i)]\n",
    "        dau = sgn_by_def(sigma)\n",
    "        if (dau != 1):\n",
    "            product = product * (-1)\n",
    "        dinhthuc = dinhthuc + product\n",
    "    return dinhthuc"
   ]
  },
  {
   "cell_type": "code",
   "execution_count": 528,
   "id": "7e7949d1",
   "metadata": {},
   "outputs": [
    {
     "name": "stdout",
     "output_type": "stream",
     "text": [
      "-14\n"
     ]
    }
   ],
   "source": [
    "matran = np.array([[3,5,-8], [4, 12, 1], [2,5,3]])\n",
    "print(tinhtoan_dinhthuc(A))"
   ]
  },
  {
   "cell_type": "code",
   "execution_count": 529,
   "id": "aca17931",
   "metadata": {},
   "outputs": [
    {
     "name": "stdout",
     "output_type": "stream",
     "text": [
      "-14.0 -28.0 14.000000000000004\n"
     ]
    }
   ],
   "source": [
    "import numpy as np\n",
    "A = np.array([[4, -2],[3, -5]])\n",
    "A1 = np.array([[10, -2],[11, -5]])\n",
    "A2 = np.array([[4, 10],[3, 11]])\n",
    "from scipy import linalg # lưu ý: hàm tính định thức của ma trận là scipy.linalg.det(A)\n",
    "detA = linalg.det(A) # tính định thức cho ma trận A\n",
    "detA1 = linalg.det(A1)\n",
    "detA2 = linalg.det(A2)\n",
    "print (detA, detA1, detA2)"
   ]
  },
  {
   "cell_type": "code",
   "execution_count": 530,
   "id": "bcc75dac",
   "metadata": {},
   "outputs": [
    {
     "name": "stdout",
     "output_type": "stream",
     "text": [
      "Hai nghiệm của phương trình là:  2.0 -1.0000000000000002\n"
     ]
    }
   ],
   "source": [
    "if (detA != 0):\n",
    "    x1 = detA1 / detA\n",
    "    x2 = detA2 / detA\n",
    "print (\"Hai nghiệm của phương trình là: \", x1, x2)"
   ]
  },
  {
   "cell_type": "code",
   "execution_count": 531,
   "id": "13af80a7",
   "metadata": {},
   "outputs": [
    {
     "name": "stdout",
     "output_type": "stream",
     "text": [
      "-14\n"
     ]
    }
   ],
   "source": [
    "As = np.array([[4, -2],[3, -5]])\n",
    "print(tinhtoan_dinhthuc(As))"
   ]
  },
  {
   "cell_type": "code",
   "execution_count": 532,
   "id": "b53d9e9c",
   "metadata": {},
   "outputs": [
    {
     "name": "stdout",
     "output_type": "stream",
     "text": [
      "-28\n"
     ]
    }
   ],
   "source": [
    "print(tinhtoan_dinhthuc(A1))\n"
   ]
  },
  {
   "cell_type": "code",
   "execution_count": 533,
   "id": "631a1889",
   "metadata": {},
   "outputs": [
    {
     "name": "stdout",
     "output_type": "stream",
     "text": [
      "14\n"
     ]
    }
   ],
   "source": [
    "print(tinhtoan_dinhthuc(A2))"
   ]
  },
  {
   "cell_type": "code",
   "execution_count": 534,
   "id": "c08c57c0",
   "metadata": {},
   "outputs": [],
   "source": [
    "import numpy as np\n",
    "A = np.array([[-1, 2, -3], [2, -2, 1], [3, -4, 4]])  # ma trận hệ số\n",
    "B = np.array([1, 3, 2])  # vector vế phải"
   ]
  },
  {
   "cell_type": "code",
   "execution_count": 535,
   "id": "d094932f",
   "metadata": {},
   "outputs": [
    {
     "name": "stdout",
     "output_type": "stream",
     "text": [
      "Nghiệm của phương trình là: x = 26.00000000000001 , y = 30.000000000000007 , z = 0.0\n"
     ]
    }
   ],
   "source": [
    "from scipy.linalg import det\n",
    "A1 = A.copy(); A1[:,0] = B\n",
    "A2 = A.copy(); A2[:,1] = B\n",
    "A3 = A.copy(); A3[:,2] = B\n",
    "D = det(A); D1 = det(A1); D2 = det(A2); D3 = det(A3)\n",
    "x = D1 / D; y = D2 / D; z = D3 / D\n",
    "print(\"Nghiệm của phương trình là:\", \"x =\", x, \", y =\", y, \", z =\", z)"
   ]
  },
  {
   "cell_type": "code",
   "execution_count": 537,
   "id": "f7d1bfd3",
   "metadata": {},
   "outputs": [
    {
     "name": "stdout",
     "output_type": "stream",
     "text": [
      "0 0 0 0\n"
     ]
    }
   ],
   "source": [
    "D = tinhtoan_dinhthuc(A)\n",
    "D1 = tinhtoan_dinhthuc(A1)\n",
    "D2 = tinhtoan_dinhthuc(A2)\n",
    "D3 = tinhtoan_dinhthuc(A3)\n",
    "print( D , D1, D2, D3)"
   ]
  },
  {
   "cell_type": "code",
   "execution_count": null,
   "id": "b5f0cbe0",
   "metadata": {},
   "outputs": [],
   "source": []
  }
 ],
 "metadata": {
  "kernelspec": {
   "display_name": "env",
   "language": "python",
   "name": "python3"
  },
  "language_info": {
   "codemirror_mode": {
    "name": "ipython",
    "version": 3
   },
   "file_extension": ".py",
   "mimetype": "text/x-python",
   "name": "python",
   "nbconvert_exporter": "python",
   "pygments_lexer": "ipython3",
   "version": "3.13.1"
  }
 },
 "nbformat": 4,
 "nbformat_minor": 5
}
