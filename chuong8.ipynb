{
 "cells": [
  {
   "cell_type": "code",
   "execution_count": 22,
   "id": "9af4b90e",
   "metadata": {},
   "outputs": [
    {
     "name": "stdout",
     "output_type": "stream",
     "text": [
      "[ 18 -11   9  -8]\n"
     ]
    }
   ],
   "source": [
    "import numpy as np\n",
    "u = np.array([2,-1,5,0])\n",
    "v = np.array([4,3,1,-1])\n",
    "w = np.array([-6,2,0,3])\n",
    "x = 2*u-(v+3*w)\n",
    "print (x)"
   ]
  },
  {
   "cell_type": "code",
   "execution_count": 23,
   "id": "698665c8",
   "metadata": {},
   "outputs": [
    {
     "name": "stdout",
     "output_type": "stream",
     "text": [
      "[ 9.  -5.5  4.5 -4. ]\n"
     ]
    }
   ],
   "source": [
    "x = 0.5*(2*u-v-3*w)\n",
    "print(x)"
   ]
  },
  {
   "cell_type": "code",
   "execution_count": 24,
   "id": "c40e5589",
   "metadata": {},
   "outputs": [
    {
     "name": "stdout",
     "output_type": "stream",
     "text": [
      "[ 1. -2. -1.]\n"
     ]
    }
   ],
   "source": [
    "from numpy import linalg\n",
    "A = np.matrix([[0, -1, 3],[1, 1, 1],[4, 2, 2]])\n",
    "B = np.array([-1, -2, -2])\n",
    "X = np.linalg.solve(A, B)\n",
    "print (X)"
   ]
  },
  {
   "cell_type": "code",
   "execution_count": 25,
   "id": "49a6b1cb",
   "metadata": {},
   "outputs": [
    {
     "ename": "LinAlgError",
     "evalue": "Singular matrix",
     "output_type": "error",
     "traceback": [
      "\u001b[31m---------------------------------------------------------------------------\u001b[39m",
      "\u001b[31mLinAlgError\u001b[39m                               Traceback (most recent call last)",
      "\u001b[36mCell\u001b[39m\u001b[36m \u001b[39m\u001b[32mIn[25]\u001b[39m\u001b[32m, line 4\u001b[39m\n\u001b[32m      2\u001b[39m B = np.matrix([[\u001b[32m0\u001b[39m,\u001b[32m0\u001b[39m],[\u001b[32m0\u001b[39m,\u001b[32m1\u001b[39m]])\n\u001b[32m      3\u001b[39m \u001b[38;5;28;01mfrom\u001b[39;00m\u001b[38;5;250m \u001b[39m\u001b[34;01mnumpy\u001b[39;00m\u001b[38;5;250m \u001b[39m\u001b[38;5;28;01mimport\u001b[39;00m linalg \u001b[38;5;28;01mas\u001b[39;00m LA\n\u001b[32m----> \u001b[39m\u001b[32m4\u001b[39m \u001b[38;5;28mprint\u001b[39m(\u001b[43mLA\u001b[49m\u001b[43m.\u001b[49m\u001b[43minv\u001b[49m\u001b[43m(\u001b[49m\u001b[43mA\u001b[49m\u001b[43m)\u001b[49m)\n",
      "\u001b[36mFile \u001b[39m\u001b[32m~/Library/CloudStorage/OneDrive-Personal/TCCvUD_2474802016928_Trần_Nhật_Anh/env/lib/python3.13/site-packages/numpy/linalg/_linalg.py:609\u001b[39m, in \u001b[36minv\u001b[39m\u001b[34m(a)\u001b[39m\n\u001b[32m    606\u001b[39m signature = \u001b[33m'\u001b[39m\u001b[33mD->D\u001b[39m\u001b[33m'\u001b[39m \u001b[38;5;28;01mif\u001b[39;00m isComplexType(t) \u001b[38;5;28;01melse\u001b[39;00m \u001b[33m'\u001b[39m\u001b[33md->d\u001b[39m\u001b[33m'\u001b[39m\n\u001b[32m    607\u001b[39m \u001b[38;5;28;01mwith\u001b[39;00m errstate(call=_raise_linalgerror_singular, invalid=\u001b[33m'\u001b[39m\u001b[33mcall\u001b[39m\u001b[33m'\u001b[39m,\n\u001b[32m    608\u001b[39m               over=\u001b[33m'\u001b[39m\u001b[33mignore\u001b[39m\u001b[33m'\u001b[39m, divide=\u001b[33m'\u001b[39m\u001b[33mignore\u001b[39m\u001b[33m'\u001b[39m, under=\u001b[33m'\u001b[39m\u001b[33mignore\u001b[39m\u001b[33m'\u001b[39m):\n\u001b[32m--> \u001b[39m\u001b[32m609\u001b[39m     ainv = \u001b[43m_umath_linalg\u001b[49m\u001b[43m.\u001b[49m\u001b[43minv\u001b[49m\u001b[43m(\u001b[49m\u001b[43ma\u001b[49m\u001b[43m,\u001b[49m\u001b[43m \u001b[49m\u001b[43msignature\u001b[49m\u001b[43m=\u001b[49m\u001b[43msignature\u001b[49m\u001b[43m)\u001b[49m\n\u001b[32m    610\u001b[39m \u001b[38;5;28;01mreturn\u001b[39;00m wrap(ainv.astype(result_t, copy=\u001b[38;5;28;01mFalse\u001b[39;00m))\n",
      "\u001b[36mFile \u001b[39m\u001b[32m~/Library/CloudStorage/OneDrive-Personal/TCCvUD_2474802016928_Trần_Nhật_Anh/env/lib/python3.13/site-packages/numpy/linalg/_linalg.py:104\u001b[39m, in \u001b[36m_raise_linalgerror_singular\u001b[39m\u001b[34m(err, flag)\u001b[39m\n\u001b[32m    103\u001b[39m \u001b[38;5;28;01mdef\u001b[39;00m\u001b[38;5;250m \u001b[39m\u001b[34m_raise_linalgerror_singular\u001b[39m(err, flag):\n\u001b[32m--> \u001b[39m\u001b[32m104\u001b[39m     \u001b[38;5;28;01mraise\u001b[39;00m LinAlgError(\u001b[33m\"\u001b[39m\u001b[33mSingular matrix\u001b[39m\u001b[33m\"\u001b[39m)\n",
      "\u001b[31mLinAlgError\u001b[39m: Singular matrix"
     ]
    }
   ],
   "source": [
    "A = np.matrix([[1,0],[0,0]])\n",
    "B = np.matrix([[0,0],[0,1]])\n",
    "from numpy import linalg as LA\n",
    "print(LA.inv(A))"
   ]
  },
  {
   "cell_type": "code",
   "execution_count": null,
   "id": "19968ba8",
   "metadata": {},
   "outputs": [
    {
     "ename": "LinAlgError",
     "evalue": "Singular matrix",
     "output_type": "error",
     "traceback": [
      "\u001b[31m---------------------------------------------------------------------------\u001b[39m",
      "\u001b[31mLinAlgError\u001b[39m                               Traceback (most recent call last)",
      "\u001b[36mCell\u001b[39m\u001b[36m \u001b[39m\u001b[32mIn[17]\u001b[39m\u001b[32m, line 1\u001b[39m\n\u001b[32m----> \u001b[39m\u001b[32m1\u001b[39m \u001b[38;5;28mprint\u001b[39m(\u001b[43mLA\u001b[49m\u001b[43m.\u001b[49m\u001b[43minv\u001b[49m\u001b[43m(\u001b[49m\u001b[43mB\u001b[49m\u001b[43m)\u001b[49m)\n",
      "\u001b[36mFile \u001b[39m\u001b[32m~/Library/CloudStorage/OneDrive-Personal/TCCvUD_2474802016928_Trần_Nhật_Anh/env/lib/python3.13/site-packages/numpy/linalg/_linalg.py:609\u001b[39m, in \u001b[36minv\u001b[39m\u001b[34m(a)\u001b[39m\n\u001b[32m    606\u001b[39m signature = \u001b[33m'\u001b[39m\u001b[33mD->D\u001b[39m\u001b[33m'\u001b[39m \u001b[38;5;28;01mif\u001b[39;00m isComplexType(t) \u001b[38;5;28;01melse\u001b[39;00m \u001b[33m'\u001b[39m\u001b[33md->d\u001b[39m\u001b[33m'\u001b[39m\n\u001b[32m    607\u001b[39m \u001b[38;5;28;01mwith\u001b[39;00m errstate(call=_raise_linalgerror_singular, invalid=\u001b[33m'\u001b[39m\u001b[33mcall\u001b[39m\u001b[33m'\u001b[39m,\n\u001b[32m    608\u001b[39m               over=\u001b[33m'\u001b[39m\u001b[33mignore\u001b[39m\u001b[33m'\u001b[39m, divide=\u001b[33m'\u001b[39m\u001b[33mignore\u001b[39m\u001b[33m'\u001b[39m, under=\u001b[33m'\u001b[39m\u001b[33mignore\u001b[39m\u001b[33m'\u001b[39m):\n\u001b[32m--> \u001b[39m\u001b[32m609\u001b[39m     ainv = \u001b[43m_umath_linalg\u001b[49m\u001b[43m.\u001b[49m\u001b[43minv\u001b[49m\u001b[43m(\u001b[49m\u001b[43ma\u001b[49m\u001b[43m,\u001b[49m\u001b[43m \u001b[49m\u001b[43msignature\u001b[49m\u001b[43m=\u001b[49m\u001b[43msignature\u001b[49m\u001b[43m)\u001b[49m\n\u001b[32m    610\u001b[39m \u001b[38;5;28;01mreturn\u001b[39;00m wrap(ainv.astype(result_t, copy=\u001b[38;5;28;01mFalse\u001b[39;00m))\n",
      "\u001b[36mFile \u001b[39m\u001b[32m~/Library/CloudStorage/OneDrive-Personal/TCCvUD_2474802016928_Trần_Nhật_Anh/env/lib/python3.13/site-packages/numpy/linalg/_linalg.py:104\u001b[39m, in \u001b[36m_raise_linalgerror_singular\u001b[39m\u001b[34m(err, flag)\u001b[39m\n\u001b[32m    103\u001b[39m \u001b[38;5;28;01mdef\u001b[39;00m\u001b[38;5;250m \u001b[39m\u001b[34m_raise_linalgerror_singular\u001b[39m(err, flag):\n\u001b[32m--> \u001b[39m\u001b[32m104\u001b[39m     \u001b[38;5;28;01mraise\u001b[39;00m LinAlgError(\u001b[33m\"\u001b[39m\u001b[33mSingular matrix\u001b[39m\u001b[33m\"\u001b[39m)\n",
      "\u001b[31mLinAlgError\u001b[39m: Singular matrix"
     ]
    }
   ],
   "source": [
    "print(LA.inv(B))\n"
   ]
  },
  {
   "cell_type": "code",
   "execution_count": 26,
   "id": "9a01bd57",
   "metadata": {},
   "outputs": [
    {
     "name": "stdout",
     "output_type": "stream",
     "text": [
      "[[1. 0.]\n",
      " [0. 1.]]\n"
     ]
    }
   ],
   "source": [
    "\n",
    "print(LA.inv(A+B))"
   ]
  },
  {
   "cell_type": "code",
   "execution_count": 27,
   "id": "d9402258",
   "metadata": {},
   "outputs": [
    {
     "name": "stdout",
     "output_type": "stream",
     "text": [
      "0.0\n"
     ]
    }
   ],
   "source": [
    "print(LA.det(A))"
   ]
  },
  {
   "cell_type": "code",
   "execution_count": 28,
   "id": "7c17a4dc",
   "metadata": {},
   "outputs": [
    {
     "name": "stdout",
     "output_type": "stream",
     "text": [
      "0.0\n"
     ]
    }
   ],
   "source": [
    "print(LA.det(B))"
   ]
  },
  {
   "cell_type": "code",
   "execution_count": 29,
   "id": "9a43e522",
   "metadata": {},
   "outputs": [
    {
     "name": "stdout",
     "output_type": "stream",
     "text": [
      "1.0\n"
     ]
    }
   ],
   "source": [
    "print(LA.det(A+B))"
   ]
  },
  {
   "cell_type": "code",
   "execution_count": 30,
   "id": "2b766415",
   "metadata": {},
   "outputs": [
    {
     "data": {
      "text/latex": [
       "$\\displaystyle \\left[\\begin{matrix}x_{1} & y_{1}\\\\y_{1} & x_{1}\\end{matrix}\\right]$"
      ],
      "text/plain": [
       "Matrix([\n",
       "[x1, y1],\n",
       "[y1, x1]])"
      ]
     },
     "execution_count": 30,
     "metadata": {},
     "output_type": "execute_result"
    }
   ],
   "source": [
    "import sympy as sp\n",
    "x, y = sp.symbols('x y')\n",
    "A = sp.Matrix([[x, y],[y, x]])\n",
    "x1, y1 = sp.symbols('x1 y1')\n",
    "A1 = sp.Matrix([[x1, y1],[y1, x1]])\n",
    "x2, y2 = sp.symbols('x2 y2')\n",
    "A2 = sp.Matrix([[x2, y2],[y2, x2]])\n",
    "A1.T"
   ]
  },
  {
   "cell_type": "code",
   "execution_count": 31,
   "id": "7ca52812",
   "metadata": {},
   "outputs": [
    {
     "name": "stdout",
     "output_type": "stream",
     "text": [
      "Matrix([[x1 + x2, y1 + y2], [y1 + y2, x1 + x2]])\n"
     ]
    }
   ],
   "source": [
    "print((A1+A2).T)"
   ]
  },
  {
   "cell_type": "code",
   "execution_count": 32,
   "id": "3dc9545b",
   "metadata": {},
   "outputs": [
    {
     "data": {
      "text/plain": [
       "True"
      ]
     },
     "execution_count": 32,
     "metadata": {},
     "output_type": "execute_result"
    }
   ],
   "source": [
    "((A1+A2).T).equals(A1+A2)"
   ]
  },
  {
   "cell_type": "code",
   "execution_count": 33,
   "id": "a29b5c92",
   "metadata": {},
   "outputs": [
    {
     "name": "stdout",
     "output_type": "stream",
     "text": [
      "Matrix([[c*x, c*y], [c*y, c*x]])\n"
     ]
    }
   ],
   "source": [
    "c = sp.symbols('c')\n",
    "print (c*A)"
   ]
  },
  {
   "cell_type": "code",
   "execution_count": 34,
   "id": "e0d958ce",
   "metadata": {},
   "outputs": [
    {
     "name": "stdout",
     "output_type": "stream",
     "text": [
      "True\n"
     ]
    }
   ],
   "source": [
    "print(((c*A).T).equals(c*A))"
   ]
  },
  {
   "cell_type": "code",
   "execution_count": 35,
   "id": "8deda5d1",
   "metadata": {},
   "outputs": [
    {
     "name": "stdout",
     "output_type": "stream",
     "text": [
      "Nghiệm cho câu a: [ 5.00000000e-01  3.55887906e-16 -5.00000000e-01]\n",
      "Nghiệm cho câu b: [0.08333333 0.16666667 0.25      ]\n",
      "Sai số bình phương: []\n"
     ]
    }
   ],
   "source": [
    "import numpy as np\n",
    "\n",
    "v1 = [1, 2, 3]\n",
    "v2 = [0, 1, 2]\n",
    "v3 = [-1, 0, 1]\n",
    "A = np.column_stack((v1, v2, v3))\n",
    "w1 = np.array([1, 1, 1])\n",
    "sol1 = np.linalg.lstsq(A, w1, rcond=None)\n",
    "print(\"Nghiệm cho câu a:\", sol1[0]) \n",
    "w2 = np.array([1, -2, 2])\n",
    "sol2 = np.linalg.lstsq(A, w2, rcond=None)\n",
    "print(\"Nghiệm cho câu b:\", sol2[0])\n",
    "print(\"Sai số bình phương:\", sol2[1])\n"
   ]
  },
  {
   "cell_type": "code",
   "execution_count": 36,
   "id": "ddbdb494",
   "metadata": {},
   "outputs": [
    {
     "data": {
      "text/plain": [
       "{c1: 0, c2: 0, c3: 0}"
      ]
     },
     "execution_count": 36,
     "metadata": {},
     "output_type": "execute_result"
    }
   ],
   "source": [
    "import sympy as sp\n",
    "c1, c2, c3 = sp.symbols('c1 c2 c3')\n",
    "sp.solve([c1-2*c3, 2*c1+c2, 3*c1+2*c2+c3], [c1, c2, c3])"
   ]
  },
  {
   "cell_type": "code",
   "execution_count": 37,
   "id": "55859df0",
   "metadata": {},
   "outputs": [
    {
     "data": {
      "text/plain": [
       "{c1: u1/2 + u2/2, c2: u1/2 - u2/2}"
      ]
     },
     "execution_count": 37,
     "metadata": {},
     "output_type": "execute_result"
    }
   ],
   "source": [
    "import sympy as sp\n",
    "c1, c2 = sp.symbols('c1 c2')\n",
    "u1, u2 = sp.symbols('u1 u2')\n",
    "sp.solve([c1+c2-u1,c1-c2-u2])"
   ]
  },
  {
   "cell_type": "code",
   "execution_count": 38,
   "id": "c2252dfd",
   "metadata": {},
   "outputs": [
    {
     "data": {
      "text/plain": [
       "{c1: 0, c2: 0}"
      ]
     },
     "execution_count": 38,
     "metadata": {},
     "output_type": "execute_result"
    }
   ],
   "source": [
    "u1 = 0\n",
    "u2 = 0\n",
    "sp.solve([c1+c2-u1,c1-c2-u2])"
   ]
  },
  {
   "cell_type": "code",
   "execution_count": 39,
   "id": "6499c174",
   "metadata": {},
   "outputs": [
    {
     "name": "stdout",
     "output_type": "stream",
     "text": [
      "[[4 4 7 7 5 5 6 6 5 5]\n",
      " [2 7 7 6 6 5 5 4 4 2]]\n"
     ]
    }
   ],
   "source": [
    "import numpy as np\n",
    "P = np.array([[0,0,3,3,1,1,2,2,1,1],[0,5,5,4,4,3,3,2,2,0]])\n",
    "vecdelta = np.array([4,2])\n",
    "P_caua = (P.T + vecdelta).T # lệnh này sinh viên nên tách làm từng lệnh để hiểu\n",
    "print (P_caua)"
   ]
  },
  {
   "cell_type": "code",
   "execution_count": 40,
   "id": "4a7b0d63",
   "metadata": {},
   "outputs": [
    {
     "name": "stdout",
     "output_type": "stream",
     "text": [
      "[[ 4.  4.  7.  7.  5.  5.  6.  6.  5.  5.]\n",
      " [-2.  8.  8.  6.  6.  4.  4.  2.  2. -2.]]\n"
     ]
    }
   ],
   "source": [
    "import numpy as np\n",
    "P = np.array([[0,0,3,3,1,1,2,2,1,1],[0,5,5,4,4,3,3,2,2,0]])\n",
    "vecdelta = np.array([4,-2])\n",
    "matran_biendoi = np.array([[1.0, 0.0],[0.0, 2.0]])\n",
    "P_caub = (P.T @ matran_biendoi + vecdelta).T\n",
    "print (P_caub)"
   ]
  },
  {
   "cell_type": "code",
   "execution_count": 41,
   "id": "9f848079",
   "metadata": {},
   "outputs": [
    {
     "data": {
      "text/latex": [
       "$\\displaystyle a - b + c$"
      ],
      "text/plain": [
       "a - b + c"
      ]
     },
     "execution_count": 41,
     "metadata": {},
     "output_type": "execute_result"
    }
   ],
   "source": [
    "import sympy as sp\n",
    "from sympy import lambdify\n",
    "x1, x2, x3 = sp.symbols('x1 x2 x3')\n",
    "bieuthuc1 = x1 - x2 + x3\n",
    "f1 = lambdify([x1, x2, x3], bieuthuc1, 'numpy')\n",
    "a, b, c = sp.symbols('a b c') # khai báo thêm 3 biến a, b, c giả định X = (a, b, c)\n",
    "d, e, f = sp.symbols('d e f') # khai báo thêm 3 biến d, e, f giả định Y = (e, d, f)\n",
    "f1(a, b, c)"
   ]
  },
  {
   "cell_type": "code",
   "execution_count": 42,
   "id": "1f0e5ff0",
   "metadata": {},
   "outputs": [
    {
     "data": {
      "text/latex": [
       "$\\displaystyle d - e + f$"
      ],
      "text/plain": [
       "d - e + f"
      ]
     },
     "execution_count": 42,
     "metadata": {},
     "output_type": "execute_result"
    }
   ],
   "source": [
    "f1(d, e, f)"
   ]
  },
  {
   "cell_type": "code",
   "execution_count": 43,
   "id": "8076a890",
   "metadata": {},
   "outputs": [
    {
     "data": {
      "text/latex": [
       "$\\displaystyle a - b + c + d - e + f$"
      ],
      "text/plain": [
       "a - b + c + d - e + f"
      ]
     },
     "execution_count": 43,
     "metadata": {},
     "output_type": "execute_result"
    }
   ],
   "source": [
    "f1(a+d, b+e, c+f)"
   ]
  },
  {
   "cell_type": "code",
   "execution_count": 44,
   "id": "05bff812",
   "metadata": {},
   "outputs": [
    {
     "data": {
      "text/plain": [
       "True"
      ]
     },
     "execution_count": 44,
     "metadata": {},
     "output_type": "execute_result"
    }
   ],
   "source": [
    "f1(a,b,c) + f1(d,e,f) == f1(a+d, b+e, c+f)"
   ]
  },
  {
   "cell_type": "code",
   "execution_count": 45,
   "id": "fe2e00ce",
   "metadata": {},
   "outputs": [
    {
     "data": {
      "text/plain": [
       "True"
      ]
     },
     "execution_count": 45,
     "metadata": {},
     "output_type": "execute_result"
    }
   ],
   "source": [
    "(f1(a,b,c) + f1(d,e,f)).equals( f1(a+d, b+e, c+f))"
   ]
  },
  {
   "cell_type": "code",
   "execution_count": 46,
   "id": "b1c772f3",
   "metadata": {},
   "outputs": [
    {
     "data": {
      "text/plain": [
       "True"
      ]
     },
     "execution_count": 46,
     "metadata": {},
     "output_type": "execute_result"
    }
   ],
   "source": [
    "q = sp.symbols('q')\n",
    "(q*f1(a,b,c) + f1(d,e,f)).equals(f1(q*a+d, q*b+e, q*c+f).expand())"
   ]
  },
  {
   "cell_type": "code",
   "execution_count": 48,
   "id": "c2b9c9d8",
   "metadata": {},
   "outputs": [
    {
     "data": {
      "text/plain": [
       "True"
      ]
     },
     "execution_count": 48,
     "metadata": {},
     "output_type": "execute_result"
    }
   ],
   "source": [
    "bieuthuc2 = 2*x2 + 3* x3\n",
    "f2 = lambdify([x1, x2, x3], bieuthuc2, 'numpy')\n",
    "(q*f2(a,b,c) + f2(d,e,f)).equals(f2(q*a+d, q*b+e, q*c+f).expand())\n"
   ]
  },
  {
   "cell_type": "code",
   "execution_count": 49,
   "id": "6291a5a6",
   "metadata": {},
   "outputs": [
    {
     "data": {
      "text/plain": [
       "{a: -5*x + 3*y, b: 2*x - y}"
      ]
     },
     "execution_count": 49,
     "metadata": {},
     "output_type": "execute_result"
    }
   ],
   "source": [
    "import sympy as sp\n",
    "a, b = sp.symbols('a b')\n",
    "x, y = sp.symbols('x y')\n",
    "sp.solve([a+3*b-x, 2*a+5*b-y],[a,b])"
   ]
  },
  {
   "cell_type": "code",
   "execution_count": 50,
   "id": "95d3836b",
   "metadata": {},
   "outputs": [
    {
     "name": "stdout",
     "output_type": "stream",
     "text": [
      "[a + 4*b a + 2*b 2*a + b]\n"
     ]
    }
   ],
   "source": [
    "fu1 = np.array([1,1,2])\n",
    "fu2 = np.array([4,2,1])\n",
    "fu = a*fu1 + b*fu2\n",
    "print (fu)"
   ]
  },
  {
   "cell_type": "code",
   "execution_count": 51,
   "id": "d87b7955",
   "metadata": {},
   "outputs": [
    {
     "name": "stdout",
     "output_type": "stream",
     "text": [
      "[3*x - y -x + y -8*x + 5*y]\n"
     ]
    }
   ],
   "source": [
    "fu = a.subs(a, -5*x + 3*y)*fu1 + b.subs(b, 2*x - y)*fu2 # thay giá trị tìm được ở trên vào\n",
    "print (fu)"
   ]
  },
  {
   "cell_type": "code",
   "execution_count": null,
   "id": "488ed9c8",
   "metadata": {},
   "outputs": [],
   "source": [
    "# sinh viên ghi kết quả (đúng hoặc sai)                                                                                                                                                                                                                                                                                                                                                                                                                                                                                                                                                                                                                                                                                                         R                                                                                                                                                                                        b "
   ]
  }
 ],
 "metadata": {
  "kernelspec": {
   "display_name": "env",
   "language": "python",
   "name": "python3"
  },
  "language_info": {
   "codemirror_mode": {
    "name": "ipython",
    "version": 3
   },
   "file_extension": ".py",
   "mimetype": "text/x-python",
   "name": "python",
   "nbconvert_exporter": "python",
   "pygments_lexer": "ipython3",
   "version": "3.13.1"
  }
 },
 "nbformat": 4,
 "nbformat_minor": 5
}
