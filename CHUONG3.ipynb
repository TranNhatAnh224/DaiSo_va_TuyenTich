{
 "cells": [
  {
   "cell_type": "code",
   "execution_count": null,
   "id": "267bc137",
   "metadata": {},
   "outputs": [
    {
     "name": "stdout",
     "output_type": "stream",
     "text": [
      "[1 2 3]\n",
      "[[1.+9.j 0.+2.j 0.+3.j]\n",
      " [0.+4.j 0.+5.j 0.+6.j]]\n",
      "[[[ 0.5  1.5 10. ]\n",
      "  [ 3.   2.   1. ]]\n",
      "\n",
      " [[ 6.   5.   4. ]\n",
      "  [ 7.   8.   9. ]]]\n",
      "[[0.89877996 0.22183008]\n",
      " [0.32802478 0.7365253 ]]\n",
      "[[1.+9.j 0.+2.j 0.+3.j]\n",
      " [0.+4.j 0.+5.j 0.+6.j]]\n",
      "[[0.2992535  0.1684886  0.26950333 0.62649868 0.24077177]\n",
      " [0.29282703 0.78606718 0.29338624 0.83148197 0.6222813 ]\n",
      " [0.49297461 0.21783999 0.42401247 0.33248451 0.78425363]\n",
      " [0.71509242 0.87856724 0.49574605 0.93560315 0.94112935]\n",
      " [0.44274598 0.07340746 0.3726848  0.36132622 0.91346243]\n",
      " [0.19166543 0.45783118 0.13355035 0.06622652 0.55848346]\n",
      " [0.36638372 0.8867761  0.57551437 0.51848728 0.55107612]\n",
      " [0.43529495 0.26395214 0.70924759 0.63315103 0.32665111]\n",
      " [0.91306201 0.39337041 0.63161909 0.6240239  0.55894542]\n",
      " [0.18499633 0.92191168 0.25999032 0.22200526 0.71851299]]\n",
      "[[4 3]\n",
      " [2 6]]\n",
      "[[0. 1. 0.]\n",
      " [0. 0. 1.]\n",
      " [0. 0. 0.]]\n"
     ]
    }
   ],
   "source": [
    "import scipy.linalg\n",
    "import numpy as np \n",
    "a = np.array([1, 2, 3])\n",
    "b = np.array([(1+9j, 2j, 3j), (4j, 5j, 6j)]) # số phức\n",
    "c = np.array([[ (0.5, 1.5, 10), (3,2,1) ] , [(6,5,4), (7,8,9)]]) # ma trận số thực\n",
    "A = np.matrix(np.random.random( (2,2) ) )\n",
    "B = np.asmatrix(b) \n",
    "C = np.matrix(np.random.random( (10,5) ) )\n",
    "\n",
    "\n",
    "F = np.eye(3, k=1)\n",
    "print(a)\n",
    "print(b)\n",
    "print(c)\n",
    "print(A)\n",
    "print(B)\n",
    "print(C)\n",
    "print(D)\n",
    "print(F)"
   ]
  },
  {
   "cell_type": "code",
   "execution_count": 8,
   "id": "0ed89ea6",
   "metadata": {},
   "outputs": [
    {
     "name": "stdout",
     "output_type": "stream",
     "text": [
      "[[1. 0. 0.]\n",
      " [0. 1. 0.]\n",
      " [0. 0. 1.]]\n"
     ]
    }
   ],
   "source": [
    "F = np.eye(3, k=0)\n",
    "print(F)"
   ]
  },
  {
   "cell_type": "code",
   "execution_count": 9,
   "id": "5258ba43",
   "metadata": {},
   "outputs": [
    {
     "name": "stdout",
     "output_type": "stream",
     "text": [
      "[[0. 0. 0.]\n",
      " [1. 0. 0.]\n",
      " [0. 1. 0.]]\n"
     ]
    }
   ],
   "source": [
    "F = np.eye(3, k=-1)\n",
    "print(F)"
   ]
  },
  {
   "cell_type": "code",
   "execution_count": 10,
   "id": "2a8161b0",
   "metadata": {},
   "outputs": [
    {
     "name": "stdout",
     "output_type": "stream",
     "text": [
      "5\n"
     ]
    }
   ],
   "source": [
    "print(np.linalg.matrix_rank(C))"
   ]
  },
  {
   "cell_type": "code",
   "execution_count": 11,
   "id": "5dd6fda1",
   "metadata": {},
   "outputs": [
    {
     "name": "stdout",
     "output_type": "stream",
     "text": [
      "[[ 1.25002508 -0.37648831]\n",
      " [-0.55672115  1.52540246]]\n"
     ]
    }
   ],
   "source": [
    "print(A.I)"
   ]
  },
  {
   "cell_type": "code",
   "execution_count": 33,
   "id": "0e431ad0",
   "metadata": {},
   "outputs": [
    {
     "name": "stdout",
     "output_type": "stream",
     "text": [
      "[[ 1.25002508 -0.37648831]\n",
      " [-0.55672115  1.52540246]]\n"
     ]
    }
   ],
   "source": [
    "import scipy.linalg\n",
    "a = scipy.linalg.inv(A)\n",
    "print(a)"
   ]
  },
  {
   "cell_type": "code",
   "execution_count": 37,
   "id": "def6af1e",
   "metadata": {},
   "outputs": [
    {
     "name": "stdout",
     "output_type": "stream",
     "text": [
      "0.5892084133675086\n"
     ]
    }
   ],
   "source": [
    "import scipy.linalg\n",
    "a = scipy.linalg.det(A)\n",
    "print(a)"
   ]
  },
  {
   "cell_type": "code",
   "execution_count": 38,
   "id": "e4fe2bbf",
   "metadata": {},
   "outputs": [
    {
     "name": "stdout",
     "output_type": "stream",
     "text": [
      "[[0.89877996 0.32802478]\n",
      " [0.22183008 0.7365253 ]]\n"
     ]
    }
   ],
   "source": [
    "print(A.T)"
   ]
  },
  {
   "cell_type": "code",
   "execution_count": 39,
   "id": "9c8d4a64",
   "metadata": {},
   "outputs": [
    {
     "name": "stdout",
     "output_type": "stream",
     "text": [
      "[[0.89877996 0.32802478]\n",
      " [0.22183008 0.7365253 ]]\n"
     ]
    }
   ],
   "source": [
    "print(A.H)"
   ]
  },
  {
   "cell_type": "code",
   "execution_count": 10,
   "id": "3d4e8108",
   "metadata": {},
   "outputs": [
    {
     "name": "stdout",
     "output_type": "stream",
     "text": [
      "[[ 2.44942986+10.85409592j  0.         -9.08960632j\n",
      "   0.         -9.43786967j]\n",
      " [-1.47337201 +4.82367955j  0.        +19.65829048j\n",
      "   0.        +22.70592538j]]\n"
     ]
    }
   ],
   "source": [
    "import scipy.linalg\n",
    "import numpy as np \n",
    "A = np.matrix(np.random.random( (2,2) ) )\n",
    "b = np.array([(1+9j, 2j, 3j), (4j, 5j, 6j)])\n",
    "a = scipy.linalg.solve(A, b)\n",
    "print(a)"
   ]
  },
  {
   "cell_type": "code",
   "execution_count": 12,
   "id": "525e49e9",
   "metadata": {},
   "outputs": [
    {
     "name": "stdout",
     "output_type": "stream",
     "text": [
      "[[ 2.44942986+10.85409592j -1.47337201 +4.82367955j]\n",
      " [ 0.         -9.08960632j  0.        +19.65829048j]\n",
      " [ 0.         -9.43786967j  0.        +22.70592538j]]\n"
     ]
    }
   ],
   "source": [
    "E = np.matrix(a).T\n",
    "print(E)"
   ]
  },
  {
   "cell_type": "code",
   "execution_count": 14,
   "id": "5b202041",
   "metadata": {},
   "outputs": [
    {
     "name": "stdout",
     "output_type": "stream",
     "text": [
      "(array([[ 0.         +0.j        ,  0.         +0.j        ],\n",
      "       [ 2.44942986+10.85409592j, -1.47337201 +4.82367955j],\n",
      "       [ 0.         -9.08960632j,  0.        +19.65829048j]]), array([], dtype=complex128), 2, array([1., 1., 0.]))\n"
     ]
    }
   ],
   "source": [
    "F = np.eye(3, k=1)\n",
    "print( scipy.linalg.lstsq(F, E))"
   ]
  },
  {
   "cell_type": "code",
   "execution_count": 16,
   "id": "6c4572a3",
   "metadata": {},
   "outputs": [
    {
     "name": "stdout",
     "output_type": "stream",
     "text": [
      "[[4.65033181 3.40243887]\n",
      " [2.21193966 6.35234234]]\n"
     ]
    }
   ],
   "source": [
    "D = np.matrix([ [4, 3], [2, 6] ])\n",
    "print(np.add(A, D))"
   ]
  },
  {
   "cell_type": "code",
   "execution_count": 17,
   "id": "7d6b02f1",
   "metadata": {},
   "outputs": [
    {
     "name": "stdout",
     "output_type": "stream",
     "text": [
      "[[-3.34966819 -2.59756113]\n",
      " [-1.78806034 -5.64765766]]\n"
     ]
    }
   ],
   "source": [
    "print(np.subtract(A, D))"
   ]
  },
  {
   "cell_type": "code",
   "execution_count": 18,
   "id": "3c265689",
   "metadata": {},
   "outputs": [
    {
     "name": "stdout",
     "output_type": "stream",
     "text": [
      "[[0.16258295 0.13414629]\n",
      " [0.10596983 0.05872372]]\n"
     ]
    }
   ],
   "source": [
    "print(np.divide(A, D))"
   ]
  },
  {
   "cell_type": "code",
   "execution_count": 19,
   "id": "b304857c",
   "metadata": {},
   "outputs": [
    {
     "name": "stdout",
     "output_type": "stream",
     "text": [
      "[[3.40620498 4.36562864]\n",
      " [1.55244334 2.74987305]]\n"
     ]
    }
   ],
   "source": [
    "print(A @ D )"
   ]
  },
  {
   "cell_type": "code",
   "execution_count": 20,
   "id": "9226f910",
   "metadata": {},
   "outputs": [
    {
     "name": "stdout",
     "output_type": "stream",
     "text": [
      "[[2.60132725 1.2073166 ]\n",
      " [0.42387933 2.11405405]]\n"
     ]
    }
   ],
   "source": [
    "print(np.multiply(D, A))"
   ]
  },
  {
   "cell_type": "code",
   "execution_count": 21,
   "id": "49a8e235",
   "metadata": {},
   "outputs": [
    {
     "name": "stdout",
     "output_type": "stream",
     "text": [
      "[[3.40620498 4.36562864]\n",
      " [1.55244334 2.74987305]]\n"
     ]
    }
   ],
   "source": [
    "print(np.dot(A, D))"
   ]
  },
  {
   "cell_type": "code",
   "execution_count": 22,
   "id": "24a99ce8",
   "metadata": {},
   "outputs": [
    {
     "name": "stdout",
     "output_type": "stream",
     "text": [
      "[[2.60132725]]\n"
     ]
    }
   ],
   "source": [
    "print(np.vdot(A, D))"
   ]
  },
  {
   "cell_type": "code",
   "execution_count": 23,
   "id": "aec0c1c1",
   "metadata": {},
   "outputs": [
    {
     "name": "stdout",
     "output_type": "stream",
     "text": [
      "[[1.9908658  0.67636433]\n",
      " [0.35619927 1.49004576]]\n"
     ]
    }
   ],
   "source": [
    "print(scipy.linalg.expm(A))"
   ]
  },
  {
   "cell_type": "code",
   "execution_count": 24,
   "id": "77955d2f",
   "metadata": {},
   "outputs": [
    {
     "name": "stdout",
     "output_type": "stream",
     "text": [
      "[[-0.614033    0.96013597]\n",
      " [ 0.50564424 -1.3249743 ]]\n"
     ]
    }
   ],
   "source": [
    "print(scipy.linalg.logm(A))"
   ]
  },
  {
   "cell_type": "code",
   "execution_count": 26,
   "id": "b4fa8ea7",
   "metadata": {},
   "outputs": [
    {
     "name": "stdout",
     "output_type": "stream",
     "text": [
      "[[0 1]\n",
      " [1 0]]\n"
     ]
    }
   ],
   "source": [
    "import numpy as np\n",
    "A = np.array([ [0,1], [1,0]])\n",
    "print(A)"
   ]
  },
  {
   "cell_type": "code",
   "execution_count": 27,
   "id": "a8c4b904",
   "metadata": {},
   "outputs": [
    {
     "name": "stdout",
     "output_type": "stream",
     "text": [
      "[[1 0]\n",
      " [0 1]]\n"
     ]
    }
   ],
   "source": [
    "temp = A.dot(A)\n",
    "print(temp)"
   ]
  },
  {
   "cell_type": "code",
   "execution_count": 28,
   "id": "9ba46d27",
   "metadata": {},
   "outputs": [
    {
     "name": "stdout",
     "output_type": "stream",
     "text": [
      "[[0 1]\n",
      " [1 0]]\n",
      "---\n",
      "[[1 0]\n",
      " [0 1]]\n",
      "---\n",
      "[[0 1]\n",
      " [1 0]]\n",
      "---\n",
      "[[1 0]\n",
      " [0 1]]\n",
      "---\n",
      "[[0 1]\n",
      " [1 0]]\n",
      "---\n"
     ]
    }
   ],
   "source": [
    "k= 6\n",
    "for i in range(k-1):\n",
    "    temp = temp.dot(A)\n",
    "    print (temp)\n",
    "    print('---')"
   ]
  },
  {
   "cell_type": "code",
   "execution_count": 29,
   "id": "e571978b",
   "metadata": {},
   "outputs": [
    {
     "name": "stdout",
     "output_type": "stream",
     "text": [
      "[[ 0 -1]\n",
      " [-1  0]]\n"
     ]
    }
   ],
   "source": [
    "B = np.array([ [0,-1], [-1,0]])\n",
    "print(B)"
   ]
  },
  {
   "cell_type": "code",
   "execution_count": 30,
   "id": "b61a0c84",
   "metadata": {},
   "outputs": [
    {
     "name": "stdout",
     "output_type": "stream",
     "text": [
      "[[1 0]\n",
      " [0 1]]\n"
     ]
    }
   ],
   "source": [
    "temp = B.dot(B)\n",
    "print(temp)"
   ]
  },
  {
   "cell_type": "code",
   "execution_count": 31,
   "id": "08bdf069",
   "metadata": {},
   "outputs": [
    {
     "name": "stdout",
     "output_type": "stream",
     "text": [
      "[[ 0 -1]\n",
      " [-1  0]]\n",
      "---\n",
      "[[1 0]\n",
      " [0 1]]\n",
      "---\n",
      "[[ 0 -1]\n",
      " [-1  0]]\n",
      "---\n",
      "[[1 0]\n",
      " [0 1]]\n",
      "---\n"
     ]
    }
   ],
   "source": [
    "k= 5\n",
    "for i in range(k-1):\n",
    "    temp = temp.dot(B)\n",
    "    print (temp)\n",
    "    print('---')"
   ]
  },
  {
   "cell_type": "code",
   "execution_count": 32,
   "id": "989e4da8",
   "metadata": {},
   "outputs": [
    {
     "name": "stdout",
     "output_type": "stream",
     "text": [
      "[[1.  0.  0. ]\n",
      " [0.  0.5 1. ]\n",
      " [0.  0.  0.5]]\n"
     ]
    }
   ],
   "source": [
    "C = np.array([ [1, 0, 0], [0, 0.5, 1], [0, 0, 0.5] ])\n",
    "print(C)"
   ]
  },
  {
   "cell_type": "code",
   "execution_count": 33,
   "id": "3e996a95",
   "metadata": {},
   "outputs": [
    {
     "name": "stdout",
     "output_type": "stream",
     "text": [
      "[[1.   0.   0.  ]\n",
      " [0.   0.25 1.  ]\n",
      " [0.   0.   0.25]]\n"
     ]
    }
   ],
   "source": [
    "temp = C.dot(C) \n",
    "print(temp)"
   ]
  },
  {
   "cell_type": "code",
   "execution_count": 34,
   "id": "4dbd5a15",
   "metadata": {},
   "outputs": [
    {
     "name": "stdout",
     "output_type": "stream",
     "text": [
      "[[1.00000000e+000 0.00000000e+000 0.00000000e+000]\n",
      " [0.00000000e+000 4.66631809e-302 9.34196882e-299]\n",
      " [0.00000000e+000 0.00000000e+000 4.66631809e-302]]\n"
     ]
    }
   ],
   "source": [
    "k= 1000\n",
    "for i in range(k-1):\n",
    "    temp = temp.dot(C)\n",
    "print(temp)"
   ]
  },
  {
   "cell_type": "code",
   "execution_count": 35,
   "id": "62605f7a",
   "metadata": {},
   "outputs": [
    {
     "name": "stdout",
     "output_type": "stream",
     "text": [
      "[[1. 0. 0.]\n",
      " [0. 0. 0.]\n",
      " [0. 0. 0.]]\n"
     ]
    }
   ],
   "source": [
    "k= 1000\n",
    "for i in range(k-1):\n",
    "    temp = temp.dot(C)\n",
    "print(temp)"
   ]
  },
  {
   "cell_type": "code",
   "execution_count": 36,
   "id": "378dd139",
   "metadata": {},
   "outputs": [
    {
     "name": "stdout",
     "output_type": "stream",
     "text": [
      "[[0.7  0.45]\n",
      " [0.3  0.55]]\n"
     ]
    }
   ],
   "source": [
    "M = np.array([ [0.8, 0.3], [0.2, 0.7]])\n",
    "MM = M.dot(M) # tính M2, nghĩa là M2\n",
    "print (MM)"
   ]
  },
  {
   "cell_type": "code",
   "execution_count": 37,
   "id": "46011ea7",
   "metadata": {},
   "outputs": [
    {
     "name": "stdout",
     "output_type": "stream",
     "text": [
      "[[0.7  0.45]\n",
      " [0.3  0.55]]\n"
     ]
    }
   ],
   "source": [
    "MM = M.dot(M) # tính M3\n",
    "print (MM)"
   ]
  },
  {
   "cell_type": "code",
   "execution_count": 54,
   "id": "b9e49e0b",
   "metadata": {},
   "outputs": [
    {
     "name": "stdout",
     "output_type": "stream",
     "text": [
      "[[0.6 0.6]\n",
      " [0.4 0.4]]\n"
     ]
    }
   ],
   "source": [
    "for i in range(100): # tính các M^ khác.\n",
    "    MM = MM.dot(M) # tính M^n\n",
    "print (MM) # kết luận xu hướng của M"
   ]
  },
  {
   "cell_type": "code",
   "execution_count": 39,
   "id": "d0a1f9b6",
   "metadata": {},
   "outputs": [
    {
     "name": "stdout",
     "output_type": "stream",
     "text": [
      "[[1. 0.]\n",
      " [0. 1.]]\n"
     ]
    }
   ],
   "source": [
    "M = np.array([ [0.8, 0.3], [0.2, 0.7]])\n",
    "P, L, U = scipy.linalg.lu(M) # lệnh lina.lu sẽ tách ma trận M thành 3 ma trận P, L và U\n",
    "print(P)"
   ]
  },
  {
   "cell_type": "code",
   "execution_count": 40,
   "id": "f5382982",
   "metadata": {},
   "outputs": [
    {
     "name": "stdout",
     "output_type": "stream",
     "text": [
      "[[1.   0.  ]\n",
      " [0.25 1.  ]]\n"
     ]
    }
   ],
   "source": [
    "print(L)"
   ]
  },
  {
   "cell_type": "code",
   "execution_count": 41,
   "id": "8b7ba922",
   "metadata": {},
   "outputs": [
    {
     "name": "stdout",
     "output_type": "stream",
     "text": [
      "[[0.8   0.3  ]\n",
      " [0.    0.625]]\n"
     ]
    }
   ],
   "source": [
    "print(U)"
   ]
  },
  {
   "cell_type": "code",
   "execution_count": 42,
   "id": "fe8feb7c",
   "metadata": {},
   "outputs": [
    {
     "name": "stdout",
     "output_type": "stream",
     "text": [
      "[[0.8 0.3]\n",
      " [0.2 0.7]]\n"
     ]
    }
   ],
   "source": [
    "print(L.dot(U))"
   ]
  },
  {
   "cell_type": "code",
   "execution_count": 43,
   "id": "898ba91a",
   "metadata": {},
   "outputs": [],
   "source": [
    "A = np.array([ [0,1,0,1],[0,0,1,0],[1,0,0,1],[1,1,0,0]])"
   ]
  },
  {
   "cell_type": "code",
   "execution_count": 44,
   "id": "845acb8c",
   "metadata": {},
   "outputs": [
    {
     "name": "stdout",
     "output_type": "stream",
     "text": [
      "[[1 1 1 0]\n",
      " [1 0 0 1]\n",
      " [1 2 0 1]\n",
      " [0 1 1 1]]\n"
     ]
    }
   ],
   "source": [
    "temp = A.dot(A) # lúc này temp = õÜ\n",
    "print(temp)\n"
   ]
  },
  {
   "cell_type": "code",
   "execution_count": 45,
   "id": "5e407680",
   "metadata": {},
   "outputs": [
    {
     "name": "stdout",
     "output_type": "stream",
     "text": [
      "[[1 1 1 2]\n",
      " [1 2 0 1]\n",
      " [1 2 2 1]\n",
      " [2 1 1 1]]\n"
     ]
    }
   ],
   "source": [
    "temp = temp.dot(A)\n",
    "print(temp) # lúc này temp = õÜ^2"
   ]
  },
  {
   "cell_type": "code",
   "execution_count": 48,
   "id": "d904aaae",
   "metadata": {},
   "outputs": [
    {
     "name": "stdout",
     "output_type": "stream",
     "text": [
      "[[1 1 1 0]\n",
      " [1 0 0 1]\n",
      " [1 2 0 1]\n",
      " [0 1 1 1]]\n"
     ]
    }
   ],
   "source": [
    "A = np.array([ [0,1,0,1],[0,0,1,0],[1,0,0,1],[1,1,0,0]])\n",
    "sumA = A\n",
    "temp = A.dot(A)\n",
    "print(temp) \n"
   ]
  },
  {
   "cell_type": "code",
   "execution_count": 49,
   "id": "9d8a8dfe",
   "metadata": {},
   "outputs": [
    {
     "name": "stdout",
     "output_type": "stream",
     "text": [
      "[[1 1 1 2]\n",
      " [1 2 0 1]\n",
      " [1 2 2 1]\n",
      " [2 1 1 1]]\n"
     ]
    }
   ],
   "source": [
    "k = 3\n",
    "sumA = sumA + temp\n",
    "for i in range(1, k-1):\n",
    "    temp = temp.dot(A)\n",
    "    sumA = sumA + temp\n",
    "print (temp)\n"
   ]
  },
  {
   "cell_type": "code",
   "execution_count": 50,
   "id": "46f19794",
   "metadata": {},
   "outputs": [
    {
     "name": "stdout",
     "output_type": "stream",
     "text": [
      "[[2 3 2 3]\n",
      " [2 2 1 2]\n",
      " [3 4 2 3]\n",
      " [3 3 2 2]]\n"
     ]
    }
   ],
   "source": [
    "print(sumA)"
   ]
  }
 ],
 "metadata": {
  "kernelspec": {
   "display_name": "env",
   "language": "python",
   "name": "python3"
  },
  "language_info": {
   "codemirror_mode": {
    "name": "ipython",
    "version": 3
   },
   "file_extension": ".py",
   "mimetype": "text/x-python",
   "name": "python",
   "nbconvert_exporter": "python",
   "pygments_lexer": "ipython3",
   "version": "3.13.1"
  }
 },
 "nbformat": 4,
 "nbformat_minor": 5
}
