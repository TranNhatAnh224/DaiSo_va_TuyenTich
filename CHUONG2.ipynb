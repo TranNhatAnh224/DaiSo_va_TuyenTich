{
 "cells": [
  {
   "cell_type": "markdown",
   "id": "5476fd75",
   "metadata": {},
   "source": [
    "BÀI TẬP CHƯƠNG 2"
   ]
  },
  {
   "cell_type": "code",
   "execution_count": null,
   "id": "914b993d",
   "metadata": {},
   "outputs": [
    {
     "name": "stdout",
     "output_type": "stream",
     "text": [
      "[30, 50, 70]\n"
     ]
    }
   ],
   "source": [
    "#bài 1.\n",
    "def scale(a, v):\n",
    "    return [a*vi for vi in v]\n",
    "v = [3,5,7]\n",
    "st1 = scale(10, v)\n",
    "print(st1)"
   ]
  },
  {
   "cell_type": "code",
   "execution_count": null,
   "id": "b6153046",
   "metadata": {},
   "outputs": [
    {
     "name": "stdout",
     "output_type": "stream",
     "text": [
      "[5, 9, 13]\n"
     ]
    }
   ],
   "source": [
    "#bài 2\n",
    "def sumvector(v, w):\n",
    "    return [vi+wi for (vi, wi) in zip(v,w)]\n",
    "v=[3,5,7]\n",
    "w=[2,4,6]\n",
    "sumvector(v, w)"
   ]
  },
  {
   "cell_type": "code",
   "execution_count": null,
   "id": "e7b9da0f",
   "metadata": {},
   "outputs": [
    {
     "name": "stdout",
     "output_type": "stream",
     "text": [
      "68\n"
     ]
    }
   ],
   "source": [
    "#bài 3\n",
    "def dotvector(v, w):\n",
    "    return sum([vi*wi for (vi, wi) in zip(v, w)])\n",
    "print(dotvector(v, w))"
   ]
  },
  {
   "cell_type": "code",
   "execution_count": null,
   "id": "48354efa",
   "metadata": {},
   "outputs": [
    {
     "name": "stdout",
     "output_type": "stream",
     "text": [
      "56\n"
     ]
    }
   ],
   "source": [
    "#bài 4\n",
    "def lenvector(v):\n",
    "    return dotvector(v,v)\n",
    "print(lenvector(w))"
   ]
  },
  {
   "cell_type": "code",
   "execution_count": null,
   "id": "ce9434f9",
   "metadata": {},
   "outputs": [
    {
     "name": "stdout",
     "output_type": "stream",
     "text": [
      "[False  True  True False  True False]\n",
      "[ True False False  True False  True]\n",
      "['so am' 'so duong' 'so duong' 'so am' 'so duong' 'so am']\n"
     ]
    }
   ],
   "source": [
    "#bài 5\n",
    "import numpy as np\n",
    "scores = np.array([-1, 1, 2, -3, 5, -4])\n",
    "print(scores >=0)\n",
    "print(scores < 0)\n",
    "print(np.select([scores >=0, scores < 0],['so duong','so am'], default='khong phai so duong hoac so am')) # phải thêm default nếu không sẽ báo lỗi khi không có điều kiện nào đúng\n"
   ]
  },
  {
   "cell_type": "code",
   "execution_count": 59,
   "id": "7364a80c",
   "metadata": {},
   "outputs": [
    {
     "data": {
      "text/plain": [
       "array(['so am', 'so duong', 'so duong', 'so 0', 'so am', 'so duong',\n",
       "       'so 0', 'so am'], dtype='<U36')"
      ]
     },
     "execution_count": 59,
     "metadata": {},
     "output_type": "execute_result"
    }
   ],
   "source": [
    "#bài 6\n",
    "scores = np.array([-1, 1, 2, 0, -3, 5, 0, -4])\n",
    "np.select([scores >0, scores ==0, scores < 0],['so duong', 'so 0', 'so am'], default='khong phai so duong, so 0 hoac so am')"
   ]
  },
  {
   "cell_type": "code",
   "execution_count": 60,
   "id": "51e01e76",
   "metadata": {},
   "outputs": [
    {
     "name": "stdout",
     "output_type": "stream",
     "text": [
      "[[3 4]\n",
      " [5 6]]\n"
     ]
    }
   ],
   "source": [
    "#bài 7\n",
    "import numpy as np\n",
    "from scipy import linalg, sparse\n",
    "D = np.matrix([[3,4], [5,6]]) #np.mat ko nên dùng nữa, thay bằng np.matrix\n",
    "print(D)"
   ]
  },
  {
   "cell_type": "code",
   "execution_count": null,
   "id": "aa8e54c0",
   "metadata": {},
   "outputs": [
    {
     "name": "stdout",
     "output_type": "stream",
     "text": [
      "[[0.36245183 0.32437046 0.28331451 0.10456218 0.30867463 0.30458656\n",
      "  0.39950296]\n",
      " [0.86944465 0.7639654  0.32063148 0.24623639 0.7029384  0.32585056\n",
      "  0.49791472]\n",
      " [0.47698747 0.90950912 0.16459021 0.48921333 0.62162914 0.09269485\n",
      "  0.94316986]\n",
      " [0.64426899 0.70174927 0.85896061 0.08953584 0.46915141 0.32672843\n",
      "  0.02085114]\n",
      " [0.57232567 0.54794725 0.40088019 0.71084568 0.73037337 0.09038715\n",
      "  0.92649549]]\n"
     ]
    }
   ],
   "source": [
    "C =np.matrix(np.random.random((5,7)))\n",
    "print(C)"
   ]
  },
  {
   "cell_type": "code",
   "execution_count": 63,
   "id": "e4941c3c",
   "metadata": {},
   "outputs": [
    {
     "name": "stdout",
     "output_type": "stream",
     "text": [
      "[[0.95335382 0.75702315]\n",
      " [0.03857916 0.10369447]]\n"
     ]
    }
   ],
   "source": [
    "A = np.matrix(np.random.random((2,2)))\n",
    "print(A)"
   ]
  },
  {
   "cell_type": "code",
   "execution_count": 76,
   "id": "9294391f",
   "metadata": {},
   "outputs": [
    {
     "name": "stdout",
     "output_type": "stream",
     "text": [
      "[[1.+5.j 0.+2.j 0.+3.j]\n",
      " [4.+0.j 5.+0.j 6.+0.j]]\n"
     ]
    }
   ],
   "source": [
    "b = np.array([(1+5j, 2j, 3j),(4, 5, 6)])\n",
    "B = np.asmatrix(b)\n",
    "print(b)\n"
   ]
  },
  {
   "cell_type": "code",
   "execution_count": 77,
   "id": "2ef0f810",
   "metadata": {},
   "outputs": [
    {
     "name": "stdout",
     "output_type": "stream",
     "text": [
      "[[1.+5.j 0.+2.j 0.+3.j]\n",
      " [4.+0.j 5.+0.j 6.+0.j]]\n"
     ]
    }
   ],
   "source": [
    "print(B)"
   ]
  },
  {
   "cell_type": "code",
   "execution_count": 78,
   "id": "259110cb",
   "metadata": {},
   "outputs": [
    {
     "name": "stdout",
     "output_type": "stream",
     "text": [
      "[[0.95335382 0.03857916]\n",
      " [0.75702315 0.10369447]]\n"
     ]
    }
   ],
   "source": [
    "print(A.T)"
   ]
  },
  {
   "cell_type": "code",
   "execution_count": 79,
   "id": "8453099b",
   "metadata": {},
   "outputs": [
    {
     "name": "stdout",
     "output_type": "stream",
     "text": [
      "[[  1.48874644 -10.86861787]\n",
      " [ -0.5538828   13.68734663]]\n"
     ]
    }
   ],
   "source": [
    "print(A.I)"
   ]
  },
  {
   "cell_type": "code",
   "execution_count": 80,
   "id": "1ad9ecbe",
   "metadata": {},
   "outputs": [
    {
     "name": "stdout",
     "output_type": "stream",
     "text": [
      "[[  1.48874644 -10.86861787]\n",
      " [ -0.5538828   13.68734663]]\n"
     ]
    }
   ],
   "source": [
    "#Hoặc sử dụng lệnh của thư viện scipy\n",
    "print(linalg.inv(A))  # Tính ma trận nghịch đảo của A"
   ]
  },
  {
   "cell_type": "code",
   "execution_count": 81,
   "id": "97a9da23",
   "metadata": {},
   "outputs": [
    {
     "name": "stdout",
     "output_type": "stream",
     "text": [
      "[[-1  0  0]\n",
      " [ 0 -2  0]\n",
      " [ 1  5 -2]]\n"
     ]
    }
   ],
   "source": [
    "M = np.array([[-1,3,2],[0,-2,1],[1,5,-2]])\n",
    "M_lower = np.tril(M)\n",
    "print(M_lower)"
   ]
  },
  {
   "cell_type": "code",
   "execution_count": 82,
   "id": "2f246c96",
   "metadata": {},
   "outputs": [
    {
     "name": "stdout",
     "output_type": "stream",
     "text": [
      "[[-1  3  2]\n",
      " [ 0 -2  1]\n",
      " [ 0  0 -2]]\n"
     ]
    }
   ],
   "source": [
    "M = np.array([[-1,3,2],[0,-2,1],[1,5,-2]])\n",
    "M_upper = np.triu(M)\n",
    "print(M_upper)"
   ]
  },
  {
   "cell_type": "code",
   "execution_count": 83,
   "id": "a9c30360",
   "metadata": {},
   "outputs": [
    {
     "name": "stdout",
     "output_type": "stream",
     "text": [
      "[-1 -2 -2]\n"
     ]
    }
   ],
   "source": [
    "M = np.array([[-1,3,2],[0,-2,1],[1,5,-2]])\n",
    "v_diag = np.diag(M) #vector đường chéo\n",
    "print (v_diag)"
   ]
  },
  {
   "cell_type": "code",
   "execution_count": 84,
   "id": "e68ee0a3",
   "metadata": {},
   "outputs": [
    {
     "name": "stdout",
     "output_type": "stream",
     "text": [
      "[[-1  0  0]\n",
      " [ 0 -2  0]\n",
      " [ 0  0 -2]]\n"
     ]
    }
   ],
   "source": [
    "M_diag = np.diag(v_diag)\n",
    "print (M_diag)"
   ]
  },
  {
   "cell_type": "code",
   "execution_count": 85,
   "id": "ee3c8bc7",
   "metadata": {},
   "outputs": [
    {
     "name": "stdout",
     "output_type": "stream",
     "text": [
      "[[1. 0.]\n",
      " [0. 1.]]\n"
     ]
    }
   ],
   "source": [
    "I2 = np.identity(2)\n",
    "print(I2)"
   ]
  },
  {
   "cell_type": "code",
   "execution_count": 87,
   "id": "0a6ebd65",
   "metadata": {},
   "outputs": [
    {
     "name": "stdout",
     "output_type": "stream",
     "text": [
      "[(2, 7, -1)]\n"
     ]
    }
   ],
   "source": [
    "import sympy as sp\n",
    "x = sp.symbols('x')\n",
    "y = sp.symbols('y')\n",
    "z = sp.symbols('z')\n",
    "print(sp.solve([x*x+2-6, y - 1 -6 , x+z-1 , 2*x*x-8, z*z+4-5, y-z-8],  [x, y, z])) "
   ]
  },
  {
   "cell_type": "code",
   "execution_count": 88,
   "id": "10e5091d",
   "metadata": {},
   "outputs": [
    {
     "name": "stdout",
     "output_type": "stream",
     "text": [
      "True\n"
     ]
    }
   ],
   "source": [
    "x =[1, 2, 3]\n",
    "y = [1, 2, 3]\n",
    "print (all([x[i]==y[i] for i in range(len(x))]))"
   ]
  },
  {
   "cell_type": "code",
   "execution_count": 89,
   "id": "52c3d587",
   "metadata": {},
   "outputs": [
    {
     "name": "stdout",
     "output_type": "stream",
     "text": [
      "False\n"
     ]
    }
   ],
   "source": [
    "x =[1, 2, 3]\n",
    "y = [1, 2, 4]\n",
    "print (all([x[i]==y[i] for i in range(len(x))]))"
   ]
  },
  {
   "cell_type": "code",
   "execution_count": 90,
   "id": "8bb3b46c",
   "metadata": {},
   "outputs": [
    {
     "name": "stdout",
     "output_type": "stream",
     "text": [
      "True\n"
     ]
    }
   ],
   "source": [
    "import numpy as np\n",
    "at = np.array_equal([1,2], [1,2])\n",
    "print(at)"
   ]
  },
  {
   "cell_type": "code",
   "execution_count": 116,
   "id": "d5fce480",
   "metadata": {},
   "outputs": [
    {
     "name": "stdout",
     "output_type": "stream",
     "text": [
      "True\n"
     ]
    }
   ],
   "source": [
    "aw = np.array_equal(np.array([1,2]), np.array([1,2]))\n",
    "print(aw)"
   ]
  },
  {
   "cell_type": "code",
   "execution_count": 117,
   "id": "1a3467fb",
   "metadata": {},
   "outputs": [
    {
     "name": "stdout",
     "output_type": "stream",
     "text": [
      "[[ 0.  1.  2.  3.  4.  5.]\n",
      " [ 6.  7.  8.  9. 10. 11.]\n",
      " [12. 13. 14. 15. 16. 17.]\n",
      " [18. 19. 20. 21. 22. 23.]\n",
      " [24. 25. 26. 27. 28. 29.]\n",
      " [30. 31. 32. 33. 34. 35.]]\n"
     ]
    }
   ],
   "source": [
    "import numpy as np\n",
    "A = np.reshape(np.arange(36.0), (6,6))\n",
    "print(A)"
   ]
  },
  {
   "cell_type": "code",
   "execution_count": 118,
   "id": "aab52236",
   "metadata": {},
   "outputs": [
    {
     "name": "stdout",
     "output_type": "stream",
     "text": [
      "[[1. 0. 0. 0. 0. 0.]\n",
      " [0. 1. 0. 0. 0. 0.]\n",
      " [0. 0. 1. 0. 0. 0.]\n",
      " [0. 0. 0. 1. 0. 0.]\n",
      " [0. 0. 0. 0. 1. 0.]\n",
      " [0. 0. 0. 0. 0. 1.]]\n"
     ]
    }
   ],
   "source": [
    "I6 = np.identity(6)\n",
    "print(I6)"
   ]
  },
  {
   "cell_type": "code",
   "execution_count": 120,
   "id": "6199c516",
   "metadata": {},
   "outputs": [
    {
     "name": "stdout",
     "output_type": "stream",
     "text": [
      "36\n"
     ]
    }
   ],
   "source": [
    "print(A.size)"
   ]
  },
  {
   "cell_type": "code",
   "execution_count": 121,
   "id": "aadf31c9",
   "metadata": {},
   "outputs": [
    {
     "name": "stdout",
     "output_type": "stream",
     "text": [
      "[ 0.  7. 14. 21. 28. 35.]\n"
     ]
    }
   ],
   "source": [
    "print(np.matrix.diagonal(A))"
   ]
  },
  {
   "cell_type": "code",
   "execution_count": 122,
   "id": "7949b083",
   "metadata": {},
   "outputs": [
    {
     "name": "stdout",
     "output_type": "stream",
     "text": [
      "[[ 1.  1.  2.  3.  4.  5.]\n",
      " [ 6.  8.  8.  9. 10. 11.]\n",
      " [12. 13. 15. 15. 16. 17.]\n",
      " [18. 19. 20. 22. 22. 23.]\n",
      " [24. 25. 26. 27. 29. 29.]\n",
      " [30. 31. 32. 33. 34. 36.]]\n"
     ]
    }
   ],
   "source": [
    "A = A + I6\n",
    "print(A)"
   ]
  }
 ],
 "metadata": {
  "kernelspec": {
   "display_name": "env",
   "language": "python",
   "name": "python3"
  },
  "language_info": {
   "codemirror_mode": {
    "name": "ipython",
    "version": 3
   },
   "file_extension": ".py",
   "mimetype": "text/x-python",
   "name": "python",
   "nbconvert_exporter": "python",
   "pygments_lexer": "ipython3",
   "version": "3.13.1"
  }
 },
 "nbformat": 4,
 "nbformat_minor": 5
}
