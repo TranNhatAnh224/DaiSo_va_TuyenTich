{
 "cells": [
  {
   "cell_type": "markdown",
   "id": "ac4bc873",
   "metadata": {},
   "source": [
    "Câu 1:"
   ]
  },
  {
   "cell_type": "markdown",
   "id": "5f48c1a0",
   "metadata": {},
   "source": [
    "a)"
   ]
  },
  {
   "cell_type": "code",
   "execution_count": 45,
   "id": "fc2c347e",
   "metadata": {},
   "outputs": [
    {
     "name": "stdout",
     "output_type": "stream",
     "text": [
      "[2 3 1 6]\n",
      "[ 3 11  2 14]\n"
     ]
    }
   ],
   "source": [
    "import numpy as np\n",
    "A = np.array([3, -2, 1, 4])\n",
    "B = np.array([-1, 5, 0, 2])\n",
    "C = np.array([[2, -1, 3], [1, 4, -2], [0, 2, 5]])\n",
    "\n",
    "print(A + B)\n",
    "print(2*A + 3*B)"
   ]
  },
  {
   "cell_type": "markdown",
   "id": "148abe75",
   "metadata": {},
   "source": [
    "b)"
   ]
  },
  {
   "cell_type": "code",
   "execution_count": 46,
   "id": "5a436eef",
   "metadata": {},
   "outputs": [
    {
     "name": "stdout",
     "output_type": "stream",
     "text": [
      "-5\n",
      "1.7382444060145859\n"
     ]
    }
   ],
   "source": [
    "vohuong = np.dot(A, B)\n",
    "print(vohuong)\n",
    "goc = np.arccos(vohuong / (np.linalg.norm(A) * np.linalg.norm(B)))\n",
    "print(goc)\n"
   ]
  },
  {
   "cell_type": "markdown",
   "id": "122eda26",
   "metadata": {},
   "source": [
    "c)"
   ]
  },
  {
   "cell_type": "code",
   "execution_count": 47,
   "id": "d7b8fa0b",
   "metadata": {},
   "outputs": [
    {
     "name": "stdout",
     "output_type": "stream",
     "text": [
      "[[14 -8 13]\n",
      " [-8 21 -2]\n",
      " [13 -2 29]]\n"
     ]
    }
   ],
   "source": [
    "C_CT = np.dot(C, C.T)\n",
    "print(C_CT)"
   ]
  },
  {
   "cell_type": "markdown",
   "id": "518b9da3",
   "metadata": {},
   "source": [
    "câu 2"
   ]
  },
  {
   "cell_type": "markdown",
   "id": "6acf8092",
   "metadata": {},
   "source": [
    "a)"
   ]
  },
  {
   "cell_type": "code",
   "execution_count": 48,
   "id": "5bd6e9cf",
   "metadata": {},
   "outputs": [
    {
     "name": "stdout",
     "output_type": "stream",
     "text": [
      "[[ -2  13   0  -5]\n",
      " [  2   0  12  30]\n",
      " [ 17   7  28 -14]\n",
      " [-13   3   5  15]]\n"
     ]
    }
   ],
   "source": [
    "M = np.array([[2, -1, 3, 0],\n",
    "              [1, 4, -2, 5],\n",
    "              [0, 2, 6, -3],\n",
    "              [-1, 0, 1, 4]])\n",
    "\n",
    "N = np.array([[1, 3, -2, 0],\n",
    "              [4, -1, 5, 2],\n",
    "              [0, 2, 3, -1],\n",
    "              [-3, 1, 0, 4]])\n",
    "print(M.dot(N))"
   ]
  },
  {
   "cell_type": "markdown",
   "id": "81e29777",
   "metadata": {},
   "source": [
    "b)"
   ]
  },
  {
   "cell_type": "code",
   "execution_count": 49,
   "id": "32632718",
   "metadata": {},
   "outputs": [
    {
     "name": "stdout",
     "output_type": "stream",
     "text": [
      "409.0\n"
     ]
    }
   ],
   "source": [
    "det_M = round(np.linalg.det(M), 3)\n",
    "print(det_M)"
   ]
  },
  {
   "cell_type": "markdown",
   "id": "8fd7515c",
   "metadata": {},
   "source": [
    "c)"
   ]
  },
  {
   "cell_type": "code",
   "execution_count": 50,
   "id": "ada385db",
   "metadata": {},
   "outputs": [
    {
     "name": "stdout",
     "output_type": "stream",
     "text": [
      "4\n"
     ]
    }
   ],
   "source": [
    "hang_N = np.linalg.matrix_rank(N)\n",
    "print(hang_N)"
   ]
  },
  {
   "cell_type": "markdown",
   "id": "88b21e3e",
   "metadata": {},
   "source": [
    "câu 3:"
   ]
  },
  {
   "cell_type": "markdown",
   "id": "3ed1bcdd",
   "metadata": {},
   "source": [
    "a)"
   ]
  },
  {
   "cell_type": "code",
   "execution_count": 51,
   "id": "cc8dbe81",
   "metadata": {},
   "outputs": [
    {
     "name": "stdout",
     "output_type": "stream",
     "text": [
      "[[ 0.5         0.1         0.1        -0.3       ]\n",
      " [-0.14285714  0.2         0.05714286  0.11428571]\n",
      " [-0.03571429 -0.05        0.16428571  0.07857143]\n",
      " [-0.32142857 -0.05       -0.12142857  0.50714286]]\n"
     ]
    }
   ],
   "source": [
    "P = np.array([[3, -1, 0, 2],\n",
    "              [1, 4, -2, 0],\n",
    "              [0, 1, 5, -1],\n",
    "              [2, 0, 1, 3]])\n",
    "\n",
    "b = np.array([6, 8, 3, 7])\n",
    "if round(np.linalg.det(P), 6) != 0:\n",
    "    P_inv = np.linalg.inv(P)\n",
    "    print(P_inv)\n",
    "else:\n",
    "    print(\"Ma trận P không khả nghịch.\")"
   ]
  },
  {
   "cell_type": "markdown",
   "id": "ca8e7e24",
   "metadata": {},
   "source": [
    "b)"
   ]
  },
  {
   "cell_type": "code",
   "execution_count": 52,
   "id": "64a50012",
   "metadata": {},
   "outputs": [
    {
     "name": "stdout",
     "output_type": "stream",
     "text": [
      "[2.         1.71428571 0.42857143 0.85714286]\n"
     ]
    }
   ],
   "source": [
    "b = np.array([6, 8, 3, 7])\n",
    "x = np.linalg.solve(P, b)\n",
    "print(x)"
   ]
  },
  {
   "cell_type": "markdown",
   "id": "97859490",
   "metadata": {},
   "source": [
    "c)"
   ]
  },
  {
   "cell_type": "code",
   "execution_count": 53,
   "id": "8941328e",
   "metadata": {},
   "outputs": [
    {
     "name": "stdout",
     "output_type": "stream",
     "text": [
      "[6. 8. 3. 7.]\n",
      "True\n"
     ]
    }
   ],
   "source": [
    "kiemtra = np.dot(P, x)\n",
    "print(kiemtra)\n",
    "print(np.allclose(kiemtra, b))"
   ]
  },
  {
   "cell_type": "markdown",
   "id": "3d5a0370",
   "metadata": {},
   "source": [
    "câu 4\n",
    "a)"
   ]
  },
  {
   "cell_type": "code",
   "execution_count": 54,
   "id": "6f4d5816",
   "metadata": {},
   "outputs": [
    {
     "name": "stdout",
     "output_type": "stream",
     "text": [
      "EigResult(eigenvalues=array([6.3553014+0.j        , 2.8223493+1.07730381j,\n",
      "       2.8223493-1.07730381j]), eigenvectors=array([[ 0.74846013+0.j        , -0.37423006+0.34234215j,\n",
      "        -0.37423006-0.34234215j],\n",
      "       [-0.18941773+0.j        ,  0.09470887+0.57433055j,\n",
      "         0.09470887-0.57433055j],\n",
      "       [ 0.63555359+0.j        ,  0.63555359+0.j        ,\n",
      "         0.63555359-0.j        ]]))\n"
     ]
    }
   ],
   "source": [
    "Q = np.array([[5, -2, 1],\n",
    "              [0, 3, -1],\n",
    "              [2, 0, 4]])\n",
    "GiaTriRieng = np.linalg.eig(Q)\n",
    "print(GiaTriRieng)"
   ]
  },
  {
   "cell_type": "markdown",
   "id": "f4443e9f",
   "metadata": {},
   "source": [
    "b)"
   ]
  },
  {
   "cell_type": "code",
   "execution_count": 55,
   "id": "246785b8",
   "metadata": {},
   "outputs": [
    {
     "name": "stdout",
     "output_type": "stream",
     "text": [
      "EigResult(eigenvalues=array([6.3553014+0.j        , 2.8223493+1.07730381j,\n",
      "       2.8223493-1.07730381j]), eigenvectors=array([[ 0.74846013+0.j        , -0.37423006+0.34234215j,\n",
      "        -0.37423006-0.34234215j],\n",
      "       [-0.18941773+0.j        ,  0.09470887+0.57433055j,\n",
      "         0.09470887-0.57433055j],\n",
      "       [ 0.63555359+0.j        ,  0.63555359+0.j        ,\n",
      "         0.63555359-0.j        ]]))\n"
     ]
    }
   ],
   "source": [
    "vecRieng = np.linalg.eig(Q)\n",
    "print(vecRieng)"
   ]
  },
  {
   "cell_type": "markdown",
   "id": "6660d223",
   "metadata": {},
   "source": [
    "c)\n"
   ]
  },
  {
   "cell_type": "code",
   "execution_count": 56,
   "id": "fa5b8a60",
   "metadata": {},
   "outputs": [
    {
     "name": "stdout",
     "output_type": "stream",
     "text": [
      "[[ 0.74846013+0.j         -0.37423006+0.34234215j -0.37423006-0.34234215j]\n",
      " [-0.18941773+0.j          0.09470887+0.57433055j  0.09470887-0.57433055j]\n",
      " [ 0.63555359+0.j          0.63555359+0.j          0.63555359-0.j        ]]\n"
     ]
    }
   ],
   "source": [
    "vecChuanhoa = vecRieng[1] / np.linalg.norm(vecRieng[1], axis=0)\n",
    "print(vecChuanhoa)"
   ]
  },
  {
   "cell_type": "markdown",
   "id": "b9c68de0",
   "metadata": {},
   "source": [
    "câu 5"
   ]
  },
  {
   "cell_type": "markdown",
   "id": "af42cffa",
   "metadata": {},
   "source": [
    "a)"
   ]
  },
  {
   "cell_type": "code",
   "execution_count": 57,
   "id": "3da57898",
   "metadata": {},
   "outputs": [
    {
     "name": "stdout",
     "output_type": "stream",
     "text": [
      "[2.78823529 1.52941176 1.18823529]\n"
     ]
    }
   ],
   "source": [
    "R = np.array([[4, -1, 2],\n",
    "              [1, 3, -2],\n",
    "              [0, 2, 5]])\n",
    "b = np.array([12, 5, 9])\n",
    "x1 = np.linalg.solve(R, b)\n",
    "print(x1)"
   ]
  },
  {
   "cell_type": "markdown",
   "id": "47e342cb",
   "metadata": {},
   "source": [
    "b)"
   ]
  },
  {
   "cell_type": "code",
   "execution_count": 58,
   "id": "ca79eb2d",
   "metadata": {},
   "outputs": [
    {
     "name": "stdout",
     "output_type": "stream",
     "text": [
      "[[ 0.22352941  0.10588235 -0.04705882]\n",
      " [-0.05882353  0.23529412  0.11764706]\n",
      " [ 0.02352941 -0.09411765  0.15294118]]\n",
      "[2.78823529 1.52941176 1.18823529]\n",
      "True\n"
     ]
    }
   ],
   "source": [
    "if round(np.linalg.det(R), 6) != 0:\n",
    "    R_inv = np.linalg.inv(R)\n",
    "    x2 = np.dot(R_inv, b)\n",
    "    print(R_inv)\n",
    "    print(x2)\n",
    "    print(np.allclose(x1, x2))\n",
    "else:\n",
    "    print(\"R không khả nghịch.\")"
   ]
  },
  {
   "cell_type": "markdown",
   "id": "39be83da",
   "metadata": {},
   "source": [
    "c)"
   ]
  },
  {
   "cell_type": "code",
   "execution_count": 59,
   "id": "f311a665",
   "metadata": {},
   "outputs": [
    {
     "name": "stdout",
     "output_type": "stream",
     "text": [
      "8.0\n"
     ]
    }
   ],
   "source": [
    "Chuan_R = np.linalg.norm(R)\n",
    "print(round(Chuan_R, 3))"
   ]
  }
 ],
 "metadata": {
  "kernelspec": {
   "display_name": "env",
   "language": "python",
   "name": "python3"
  },
  "language_info": {
   "codemirror_mode": {
    "name": "ipython",
    "version": 3
   },
   "file_extension": ".py",
   "mimetype": "text/x-python",
   "name": "python",
   "nbconvert_exporter": "python",
   "pygments_lexer": "ipython3",
   "version": "3.13.1"
  }
 },
 "nbformat": 4,
 "nbformat_minor": 5
}
